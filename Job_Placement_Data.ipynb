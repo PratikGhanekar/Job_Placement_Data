{
 "cells": [
  {
   "cell_type": "raw",
   "id": "fa9f241d",
   "metadata": {},
   "source": [
    "Context\n",
    "Due to the growing need of educated and talented individuals, especially in our countries, recruiting fresh graduates is a routine practice for organizations. Conventional recruiting methods and selection processes can be prone to errors and in order to optimize the whole process, some innovative methods are needed.\n",
    "\n",
    "use machine learning to predict whether the candidate gets placed ?"
   ]
  },
  {
   "cell_type": "raw",
   "id": "425f91a1",
   "metadata": {},
   "source": [
    "About this file\n",
    "This file contains different attribute of the candidates educational history and work experience. The detailed data dictionary is given below:\n",
    "Data Dictionary\n",
    "gender : Gender of the candidate\n",
    "ssc_percentage : Senior secondary exams percentage (10th Grade)\n",
    "ssc_board : Board of education for ssc exams\n",
    "hsc_percentage : Higher secondary exams percentage (12th Grade)\n",
    "hsc_borad : Board of education for hsc exams\n",
    "hsc_subject : Subject of study for hsc\n",
    "degree_percentage : Percentage of marks in undergrad degree\n",
    "undergrad_degree : Undergrad degree majors\n",
    "work_experience : Past work experience\n",
    "emp_test_percentage : Aptitude test percentage\n",
    "specialization : Postgrad degree majors - (MBA specialization)\n",
    "mba_percent : Percentage of marks in MBA degree\n",
    "status (TARGET) : Status of placement. Placed / Not Placed"
   ]
  },
  {
   "cell_type": "code",
   "execution_count": 1,
   "id": "3923a27e",
   "metadata": {},
   "outputs": [],
   "source": [
    "#import standard lib\n",
    "import numpy as np\n",
    "import pandas as pd\n",
    "import matplotlib.pyplot as plt\n",
    "import seaborn as sb\n",
    "import warnings\n",
    "warnings.filterwarnings('ignore')"
   ]
  },
  {
   "cell_type": "code",
   "execution_count": 2,
   "id": "e15e0de8",
   "metadata": {},
   "outputs": [
    {
     "data": {
      "text/html": [
       "<div>\n",
       "<style scoped>\n",
       "    .dataframe tbody tr th:only-of-type {\n",
       "        vertical-align: middle;\n",
       "    }\n",
       "\n",
       "    .dataframe tbody tr th {\n",
       "        vertical-align: top;\n",
       "    }\n",
       "\n",
       "    .dataframe thead th {\n",
       "        text-align: right;\n",
       "    }\n",
       "</style>\n",
       "<table border=\"1\" class=\"dataframe\">\n",
       "  <thead>\n",
       "    <tr style=\"text-align: right;\">\n",
       "      <th></th>\n",
       "      <th>gender</th>\n",
       "      <th>ssc_percentage</th>\n",
       "      <th>ssc_board</th>\n",
       "      <th>hsc_percentage</th>\n",
       "      <th>hsc_board</th>\n",
       "      <th>hsc_subject</th>\n",
       "      <th>degree_percentage</th>\n",
       "      <th>undergrad_degree</th>\n",
       "      <th>work_experience</th>\n",
       "      <th>emp_test_percentage</th>\n",
       "      <th>specialisation</th>\n",
       "      <th>mba_percent</th>\n",
       "      <th>status</th>\n",
       "    </tr>\n",
       "  </thead>\n",
       "  <tbody>\n",
       "    <tr>\n",
       "      <th>0</th>\n",
       "      <td>M</td>\n",
       "      <td>67.00</td>\n",
       "      <td>Others</td>\n",
       "      <td>91.00</td>\n",
       "      <td>Others</td>\n",
       "      <td>Commerce</td>\n",
       "      <td>58.00</td>\n",
       "      <td>Sci&amp;Tech</td>\n",
       "      <td>No</td>\n",
       "      <td>55.0</td>\n",
       "      <td>Mkt&amp;HR</td>\n",
       "      <td>58.80</td>\n",
       "      <td>Placed</td>\n",
       "    </tr>\n",
       "    <tr>\n",
       "      <th>1</th>\n",
       "      <td>M</td>\n",
       "      <td>79.33</td>\n",
       "      <td>Central</td>\n",
       "      <td>78.33</td>\n",
       "      <td>Others</td>\n",
       "      <td>Science</td>\n",
       "      <td>77.48</td>\n",
       "      <td>Sci&amp;Tech</td>\n",
       "      <td>Yes</td>\n",
       "      <td>86.5</td>\n",
       "      <td>Mkt&amp;Fin</td>\n",
       "      <td>66.28</td>\n",
       "      <td>Placed</td>\n",
       "    </tr>\n",
       "    <tr>\n",
       "      <th>2</th>\n",
       "      <td>M</td>\n",
       "      <td>65.00</td>\n",
       "      <td>Central</td>\n",
       "      <td>68.00</td>\n",
       "      <td>Central</td>\n",
       "      <td>Arts</td>\n",
       "      <td>64.00</td>\n",
       "      <td>Comm&amp;Mgmt</td>\n",
       "      <td>No</td>\n",
       "      <td>75.0</td>\n",
       "      <td>Mkt&amp;Fin</td>\n",
       "      <td>57.80</td>\n",
       "      <td>Placed</td>\n",
       "    </tr>\n",
       "    <tr>\n",
       "      <th>3</th>\n",
       "      <td>M</td>\n",
       "      <td>56.00</td>\n",
       "      <td>Central</td>\n",
       "      <td>52.00</td>\n",
       "      <td>Central</td>\n",
       "      <td>Science</td>\n",
       "      <td>52.00</td>\n",
       "      <td>Sci&amp;Tech</td>\n",
       "      <td>No</td>\n",
       "      <td>66.0</td>\n",
       "      <td>Mkt&amp;HR</td>\n",
       "      <td>59.43</td>\n",
       "      <td>Not Placed</td>\n",
       "    </tr>\n",
       "    <tr>\n",
       "      <th>4</th>\n",
       "      <td>M</td>\n",
       "      <td>85.80</td>\n",
       "      <td>Central</td>\n",
       "      <td>73.60</td>\n",
       "      <td>Central</td>\n",
       "      <td>Commerce</td>\n",
       "      <td>73.30</td>\n",
       "      <td>Comm&amp;Mgmt</td>\n",
       "      <td>No</td>\n",
       "      <td>96.8</td>\n",
       "      <td>Mkt&amp;Fin</td>\n",
       "      <td>55.50</td>\n",
       "      <td>Placed</td>\n",
       "    </tr>\n",
       "  </tbody>\n",
       "</table>\n",
       "</div>"
      ],
      "text/plain": [
       "  gender  ssc_percentage ssc_board  hsc_percentage hsc_board hsc_subject  \\\n",
       "0      M           67.00    Others           91.00    Others    Commerce   \n",
       "1      M           79.33   Central           78.33    Others     Science   \n",
       "2      M           65.00   Central           68.00   Central        Arts   \n",
       "3      M           56.00   Central           52.00   Central     Science   \n",
       "4      M           85.80   Central           73.60   Central    Commerce   \n",
       "\n",
       "   degree_percentage undergrad_degree work_experience  emp_test_percentage  \\\n",
       "0              58.00         Sci&Tech              No                 55.0   \n",
       "1              77.48         Sci&Tech             Yes                 86.5   \n",
       "2              64.00        Comm&Mgmt              No                 75.0   \n",
       "3              52.00         Sci&Tech              No                 66.0   \n",
       "4              73.30        Comm&Mgmt              No                 96.8   \n",
       "\n",
       "  specialisation  mba_percent      status  \n",
       "0         Mkt&HR        58.80      Placed  \n",
       "1        Mkt&Fin        66.28      Placed  \n",
       "2        Mkt&Fin        57.80      Placed  \n",
       "3         Mkt&HR        59.43  Not Placed  \n",
       "4        Mkt&Fin        55.50      Placed  "
      ]
     },
     "execution_count": 2,
     "metadata": {},
     "output_type": "execute_result"
    }
   ],
   "source": [
    "#to load csv\n",
    "df=pd.read_csv(\"Job_Placement_Data.csv\")\n",
    "df.head()\n",
    "#here output is status (TARGET) : Status of placement. Placed / Not Placed"
   ]
  },
  {
   "cell_type": "code",
   "execution_count": 3,
   "id": "05f0dfd2",
   "metadata": {},
   "outputs": [
    {
     "data": {
      "text/plain": [
       "(215, 13)"
      ]
     },
     "execution_count": 3,
     "metadata": {},
     "output_type": "execute_result"
    }
   ],
   "source": [
    "#check no of records\n",
    "df.shape"
   ]
  },
  {
   "cell_type": "code",
   "execution_count": 4,
   "id": "e634db1b",
   "metadata": {},
   "outputs": [
    {
     "name": "stdout",
     "output_type": "stream",
     "text": [
      "gender                 0\n",
      "ssc_percentage         0\n",
      "ssc_board              0\n",
      "hsc_percentage         0\n",
      "hsc_board              0\n",
      "hsc_subject            0\n",
      "degree_percentage      0\n",
      "undergrad_degree       0\n",
      "work_experience        0\n",
      "emp_test_percentage    0\n",
      "specialisation         0\n",
      "mba_percent            0\n",
      "status                 0\n",
      "dtype: int64\n"
     ]
    },
    {
     "data": {
      "image/png": "[encoded data removed]",
      "text/plain": [
       "<Figure size 432x288 with 2 Axes>"
      ]
     },
     "metadata": {
      "needs_background": "light"
     },
     "output_type": "display_data"
    }
   ],
   "source": [
    "#check null values\n",
    "f=df.isnull().sum()\n",
    "print(f)\n",
    "sb.heatmap(df.isnull())\n",
    "plt.show()"
   ]
  },
  {
   "cell_type": "code",
   "execution_count": 5,
   "id": "17e1d9a3",
   "metadata": {},
   "outputs": [
    {
     "data": {
      "text/plain": [
       "0"
      ]
     },
     "execution_count": 5,
     "metadata": {},
     "output_type": "execute_result"
    }
   ],
   "source": [
    "#check duplicates value\n",
    "df.duplicated().sum()"
   ]
  },
  {
   "cell_type": "code",
   "execution_count": 6,
   "id": "b34f43ef",
   "metadata": {},
   "outputs": [
    {
     "name": "stdout",
     "output_type": "stream",
     "text": [
      "<class 'pandas.core.frame.DataFrame'>\n",
      "RangeIndex: 215 entries, 0 to 214\n",
      "Data columns (total 13 columns):\n",
      " #   Column               Non-Null Count  Dtype  \n",
      "---  ------               --------------  -----  \n",
      " 0   gender               215 non-null    object \n",
      " 1   ssc_percentage       215 non-null    float64\n",
      " 2   ssc_board            215 non-null    object \n",
      " 3   hsc_percentage       215 non-null    float64\n",
      " 4   hsc_board            215 non-null    object \n",
      " 5   hsc_subject          215 non-null    object \n",
      " 6   degree_percentage    215 non-null    float64\n",
      " 7   undergrad_degree     215 non-null    object \n",
      " 8   work_experience      215 non-null    object \n",
      " 9   emp_test_percentage  215 non-null    float64\n",
      " 10  specialisation       215 non-null    object \n",
      " 11  mba_percent          215 non-null    float64\n",
      " 12  status               215 non-null    object \n",
      "dtypes: float64(5), object(8)\n",
      "memory usage: 22.0+ KB\n"
     ]
    }
   ],
   "source": [
    "#cross check with datatypes\n",
    "df.info()"
   ]
  },
  {
   "cell_type": "code",
   "execution_count": 7,
   "id": "840258dc",
   "metadata": {},
   "outputs": [
    {
     "name": "stdout",
     "output_type": "stream",
     "text": [
      "Placed        148\n",
      "Not Placed     67\n",
      "Name: status, dtype: int64\n"
     ]
    },
    {
     "data": {
      "image/png": "[encoded data removed]",
      "text/plain": [
       "<Figure size 432x288 with 1 Axes>"
      ]
     },
     "metadata": {
      "needs_background": "light"
     },
     "output_type": "display_data"
    }
   ],
   "source": [
    "#check data bal or not in o/p variable\n",
    "#check data is bal or not\n",
    "f=df['status'].value_counts()\n",
    "sb.countplot(data=df,x='status')\n",
    "print(f)\n",
    "plt.yticks(f)\n",
    "plt.show()\n",
    "#so here dataset is unbanced "
   ]
  },
  {
   "cell_type": "code",
   "execution_count": 8,
   "id": "aeed0193",
   "metadata": {},
   "outputs": [
    {
     "name": "stdout",
     "output_type": "stream",
     "text": [
      "Central    116\n",
      "Others      99\n",
      "Name: ssc_board, dtype: int64\n"
     ]
    },
    {
     "data": {
      "image/png": "[encoded data removed]",
      "text/plain": [
       "<Figure size 432x288 with 1 Axes>"
      ]
     },
     "metadata": {
      "needs_background": "light"
     },
     "output_type": "display_data"
    }
   ],
   "source": [
    "#check cat of ssc_board which is object type data\n",
    "f=df['ssc_board'].value_counts()\n",
    "print(f)\n",
    "sb.countplot(data=df,x='ssc_board')\n",
    "plt.yticks(f)\n",
    "plt.show()"
   ]
  },
  {
   "cell_type": "code",
   "execution_count": 9,
   "id": "fc5bf77a",
   "metadata": {},
   "outputs": [
    {
     "name": "stdout",
     "output_type": "stream",
     "text": [
      "M    139\n",
      "F     76\n",
      "Name: gender, dtype: int64\n"
     ]
    },
    {
     "data": {
      "image/png": "[encoded data removed]",
      "text/plain": [
       "<Figure size 432x288 with 1 Axes>"
      ]
     },
     "metadata": {
      "needs_background": "light"
     },
     "output_type": "display_data"
    }
   ],
   "source": [
    "#check cat of gender object type data\n",
    "f=df['gender'].value_counts()\n",
    "print(f)\n",
    "sb.countplot(data=df,x='gender')\n",
    "plt.yticks(f)\n",
    "plt.show()"
   ]
  },
  {
   "cell_type": "code",
   "execution_count": 10,
   "id": "1523ba11",
   "metadata": {},
   "outputs": [
    {
     "name": "stdout",
     "output_type": "stream",
     "text": [
      "Others     131\n",
      "Central     84\n",
      "Name: hsc_board, dtype: int64\n"
     ]
    },
    {
     "data": {
      "image/png": "[encoded data removed]",
      "text/plain": [
       "<Figure size 432x288 with 1 Axes>"
      ]
     },
     "metadata": {
      "needs_background": "light"
     },
     "output_type": "display_data"
    }
   ],
   "source": [
    "#check cat of hsc_board object type data\n",
    "f=df['hsc_board'].value_counts()\n",
    "print(f)\n",
    "sb.countplot(data=df,x='hsc_board')\n",
    "plt.yticks(f)\n",
    "plt.show()"
   ]
  },
  {
   "cell_type": "code",
   "execution_count": 11,
   "id": "b23382dd",
   "metadata": {},
   "outputs": [
    {
     "name": "stdout",
     "output_type": "stream",
     "text": [
      "Commerce    113\n",
      "Science      91\n",
      "Arts         11\n",
      "Name: hsc_subject, dtype: int64\n"
     ]
    },
    {
     "data": {
      "image/png": "[encoded data removed]",
      "text/plain": [
       "<Figure size 432x288 with 1 Axes>"
      ]
     },
     "metadata": {
      "needs_background": "light"
     },
     "output_type": "display_data"
    }
   ],
   "source": [
    "#check cat of hsc_subject object type data\n",
    "f=df['hsc_subject'].value_counts()\n",
    "print(f)\n",
    "sb.countplot(data=df,x='hsc_subject')\n",
    "plt.yticks(f)\n",
    "plt.show()"
   ]
  },
  {
   "cell_type": "code",
   "execution_count": 12,
   "id": "3651de18",
   "metadata": {},
   "outputs": [
    {
     "name": "stdout",
     "output_type": "stream",
     "text": [
      "Comm&Mgmt    145\n",
      "Sci&Tech      59\n",
      "Others        11\n",
      "Name: undergrad_degree, dtype: int64\n"
     ]
    },
    {
     "data": {
      "image/png": "[encoded data removed]",
      "text/plain": [
       "<Figure size 432x288 with 1 Axes>"
      ]
     },
     "metadata": {
      "needs_background": "light"
     },
     "output_type": "display_data"
    }
   ],
   "source": [
    "#check cat of undergrad_degree object type data\n",
    "f=df['undergrad_degree'].value_counts()\n",
    "print(f)\n",
    "sb.countplot(data=df,x='undergrad_degree')\n",
    "plt.yticks(f)\n",
    "plt.show()"
   ]
  },
  {
   "cell_type": "code",
   "execution_count": 14,
   "id": "b5b5a70d",
   "metadata": {},
   "outputs": [
    {
     "name": "stdout",
     "output_type": "stream",
     "text": [
      "No     141\n",
      "Yes     74\n",
      "Name: work_experience, dtype: int64\n"
     ]
    },
    {
     "data": {
      "image/png": "[encoded data removed]",
      "text/plain": [
       "<Figure size 432x288 with 1 Axes>"
      ]
     },
     "metadata": {
      "needs_background": "light"
     },
     "output_type": "display_data"
    }
   ],
   "source": [
    "#check cat of work_experience object type data\n",
    "f=df['work_experience'].value_counts()\n",
    "print(f)\n",
    "sb.countplot(data=df,x='work_experience')\n",
    "plt.yticks(f)\n",
    "plt.show()"
   ]
  },
  {
   "cell_type": "code",
   "execution_count": 15,
   "id": "0a20e69f",
   "metadata": {},
   "outputs": [
    {
     "name": "stdout",
     "output_type": "stream",
     "text": [
      "Mkt&Fin    120\n",
      "Mkt&HR      95\n",
      "Name: specialisation, dtype: int64\n"
     ]
    },
    {
     "data": {
      "image/png": "[encoded data removed]",
      "text/plain": [
       "<Figure size 432x288 with 1 Axes>"
      ]
     },
     "metadata": {
      "needs_background": "light"
     },
     "output_type": "display_data"
    }
   ],
   "source": [
    "#check cat of specialisation object type data\n",
    "f=df['specialisation'].value_counts()\n",
    "print(f)\n",
    "sb.countplot(data=df,x='specialisation')\n",
    "plt.yticks(f)\n",
    "plt.show()"
   ]
  },
  {
   "cell_type": "code",
   "execution_count": 16,
   "id": "710795d8",
   "metadata": {},
   "outputs": [],
   "source": [
    "#convert object type data to numeric\n",
    "from sklearn.preprocessing import LabelEncoder"
   ]
  },
  {
   "cell_type": "code",
   "execution_count": 17,
   "id": "bd2b9efe",
   "metadata": {},
   "outputs": [],
   "source": [
    "df_num=df.select_dtypes(['float64'])\n",
    "\n",
    "df_cat=df.select_dtypes(object) "
   ]
  },
  {
   "cell_type": "code",
   "execution_count": 18,
   "id": "8b0de92a",
   "metadata": {},
   "outputs": [],
   "source": [
    "from sklearn.preprocessing import LabelEncoder\n",
    "\n",
    "for col in df_cat:\n",
    "    \n",
    "    le=LabelEncoder()\n",
    "    \n",
    "    df_cat[col]=le.fit_transform(df_cat[col])"
   ]
  },
  {
   "cell_type": "code",
   "execution_count": 19,
   "id": "04cb2cf5",
   "metadata": {},
   "outputs": [
    {
     "data": {
      "text/html": [
       "<div>\n",
       "<style scoped>\n",
       "    .dataframe tbody tr th:only-of-type {\n",
       "        vertical-align: middle;\n",
       "    }\n",
       "\n",
       "    .dataframe tbody tr th {\n",
       "        vertical-align: top;\n",
       "    }\n",
       "\n",
       "    .dataframe thead th {\n",
       "        text-align: right;\n",
       "    }\n",
       "</style>\n",
       "<table border=\"1\" class=\"dataframe\">\n",
       "  <thead>\n",
       "    <tr style=\"text-align: right;\">\n",
       "      <th></th>\n",
       "      <th>gender</th>\n",
       "      <th>ssc_board</th>\n",
       "      <th>hsc_board</th>\n",
       "      <th>hsc_subject</th>\n",
       "      <th>undergrad_degree</th>\n",
       "      <th>work_experience</th>\n",
       "      <th>specialisation</th>\n",
       "      <th>status</th>\n",
       "    </tr>\n",
       "  </thead>\n",
       "  <tbody>\n",
       "    <tr>\n",
       "      <th>0</th>\n",
       "      <td>1</td>\n",
       "      <td>1</td>\n",
       "      <td>1</td>\n",
       "      <td>1</td>\n",
       "      <td>2</td>\n",
       "      <td>0</td>\n",
       "      <td>1</td>\n",
       "      <td>1</td>\n",
       "    </tr>\n",
       "    <tr>\n",
       "      <th>1</th>\n",
       "      <td>1</td>\n",
       "      <td>0</td>\n",
       "      <td>1</td>\n",
       "      <td>2</td>\n",
       "      <td>2</td>\n",
       "      <td>1</td>\n",
       "      <td>0</td>\n",
       "      <td>1</td>\n",
       "    </tr>\n",
       "    <tr>\n",
       "      <th>2</th>\n",
       "      <td>1</td>\n",
       "      <td>0</td>\n",
       "      <td>0</td>\n",
       "      <td>0</td>\n",
       "      <td>0</td>\n",
       "      <td>0</td>\n",
       "      <td>0</td>\n",
       "      <td>1</td>\n",
       "    </tr>\n",
       "    <tr>\n",
       "      <th>3</th>\n",
       "      <td>1</td>\n",
       "      <td>0</td>\n",
       "      <td>0</td>\n",
       "      <td>2</td>\n",
       "      <td>2</td>\n",
       "      <td>0</td>\n",
       "      <td>1</td>\n",
       "      <td>0</td>\n",
       "    </tr>\n",
       "    <tr>\n",
       "      <th>4</th>\n",
       "      <td>1</td>\n",
       "      <td>0</td>\n",
       "      <td>0</td>\n",
       "      <td>1</td>\n",
       "      <td>0</td>\n",
       "      <td>0</td>\n",
       "      <td>0</td>\n",
       "      <td>1</td>\n",
       "    </tr>\n",
       "  </tbody>\n",
       "</table>\n",
       "</div>"
      ],
      "text/plain": [
       "   gender  ssc_board  hsc_board  hsc_subject  undergrad_degree  \\\n",
       "0       1          1          1            1                 2   \n",
       "1       1          0          1            2                 2   \n",
       "2       1          0          0            0                 0   \n",
       "3       1          0          0            2                 2   \n",
       "4       1          0          0            1                 0   \n",
       "\n",
       "   work_experience  specialisation  status  \n",
       "0                0               1       1  \n",
       "1                1               0       1  \n",
       "2                0               0       1  \n",
       "3                0               1       0  \n",
       "4                0               0       1  "
      ]
     },
     "execution_count": 19,
     "metadata": {},
     "output_type": "execute_result"
    }
   ],
   "source": [
    "df_cat.head()"
   ]
  },
  {
   "cell_type": "code",
   "execution_count": 20,
   "id": "e57e26a6",
   "metadata": {},
   "outputs": [
    {
     "data": {
      "text/plain": [
       "gender              int32\n",
       "ssc_board           int32\n",
       "hsc_board           int32\n",
       "hsc_subject         int32\n",
       "undergrad_degree    int32\n",
       "work_experience     int32\n",
       "specialisation      int32\n",
       "status              int32\n",
       "dtype: object"
      ]
     },
     "execution_count": 20,
     "metadata": {},
     "output_type": "execute_result"
    }
   ],
   "source": [
    "df_cat.dtypes"
   ]
  },
  {
   "cell_type": "code",
   "execution_count": 21,
   "id": "945318eb",
   "metadata": {},
   "outputs": [
    {
     "data": {
      "text/plain": [
       "ssc_percentage         float64\n",
       "hsc_percentage         float64\n",
       "degree_percentage      float64\n",
       "emp_test_percentage    float64\n",
       "mba_percent            float64\n",
       "gender                   int32\n",
       "ssc_board                int32\n",
       "hsc_board                int32\n",
       "hsc_subject              int32\n",
       "undergrad_degree         int32\n",
       "work_experience          int32\n",
       "specialisation           int32\n",
       "status                   int32\n",
       "dtype: object"
      ]
     },
     "execution_count": 21,
     "metadata": {},
     "output_type": "execute_result"
    }
   ],
   "source": [
    "#to merge both dataframe df_num and df_cat\n",
    "#use pandas feauture pd.concat()\n",
    "df_new=pd.concat([df_num,df_cat],axis=1)\n",
    "df_new.dtypes"
   ]
  },
  {
   "cell_type": "code",
   "execution_count": 22,
   "id": "8da530df",
   "metadata": {},
   "outputs": [
    {
     "data": {
      "text/html": [
       "<div>\n",
       "<style scoped>\n",
       "    .dataframe tbody tr th:only-of-type {\n",
       "        vertical-align: middle;\n",
       "    }\n",
       "\n",
       "    .dataframe tbody tr th {\n",
       "        vertical-align: top;\n",
       "    }\n",
       "\n",
       "    .dataframe thead th {\n",
       "        text-align: right;\n",
       "    }\n",
       "</style>\n",
       "<table border=\"1\" class=\"dataframe\">\n",
       "  <thead>\n",
       "    <tr style=\"text-align: right;\">\n",
       "      <th></th>\n",
       "      <th>ssc_percentage</th>\n",
       "      <th>hsc_percentage</th>\n",
       "      <th>degree_percentage</th>\n",
       "      <th>emp_test_percentage</th>\n",
       "      <th>mba_percent</th>\n",
       "      <th>gender</th>\n",
       "      <th>ssc_board</th>\n",
       "      <th>hsc_board</th>\n",
       "      <th>hsc_subject</th>\n",
       "      <th>undergrad_degree</th>\n",
       "      <th>work_experience</th>\n",
       "      <th>specialisation</th>\n",
       "      <th>status</th>\n",
       "    </tr>\n",
       "  </thead>\n",
       "  <tbody>\n",
       "    <tr>\n",
       "      <th>0</th>\n",
       "      <td>67.00</td>\n",
       "      <td>91.00</td>\n",
       "      <td>58.00</td>\n",
       "      <td>55.0</td>\n",
       "      <td>58.80</td>\n",
       "      <td>1</td>\n",
       "      <td>1</td>\n",
       "      <td>1</td>\n",
       "      <td>1</td>\n",
       "      <td>2</td>\n",
       "      <td>0</td>\n",
       "      <td>1</td>\n",
       "      <td>1</td>\n",
       "    </tr>\n",
       "    <tr>\n",
       "      <th>1</th>\n",
       "      <td>79.33</td>\n",
       "      <td>78.33</td>\n",
       "      <td>77.48</td>\n",
       "      <td>86.5</td>\n",
       "      <td>66.28</td>\n",
       "      <td>1</td>\n",
       "      <td>0</td>\n",
       "      <td>1</td>\n",
       "      <td>2</td>\n",
       "      <td>2</td>\n",
       "      <td>1</td>\n",
       "      <td>0</td>\n",
       "      <td>1</td>\n",
       "    </tr>\n",
       "    <tr>\n",
       "      <th>2</th>\n",
       "      <td>65.00</td>\n",
       "      <td>68.00</td>\n",
       "      <td>64.00</td>\n",
       "      <td>75.0</td>\n",
       "      <td>57.80</td>\n",
       "      <td>1</td>\n",
       "      <td>0</td>\n",
       "      <td>0</td>\n",
       "      <td>0</td>\n",
       "      <td>0</td>\n",
       "      <td>0</td>\n",
       "      <td>0</td>\n",
       "      <td>1</td>\n",
       "    </tr>\n",
       "    <tr>\n",
       "      <th>3</th>\n",
       "      <td>56.00</td>\n",
       "      <td>52.00</td>\n",
       "      <td>52.00</td>\n",
       "      <td>66.0</td>\n",
       "      <td>59.43</td>\n",
       "      <td>1</td>\n",
       "      <td>0</td>\n",
       "      <td>0</td>\n",
       "      <td>2</td>\n",
       "      <td>2</td>\n",
       "      <td>0</td>\n",
       "      <td>1</td>\n",
       "      <td>0</td>\n",
       "    </tr>\n",
       "    <tr>\n",
       "      <th>4</th>\n",
       "      <td>85.80</td>\n",
       "      <td>73.60</td>\n",
       "      <td>73.30</td>\n",
       "      <td>96.8</td>\n",
       "      <td>55.50</td>\n",
       "      <td>1</td>\n",
       "      <td>0</td>\n",
       "      <td>0</td>\n",
       "      <td>1</td>\n",
       "      <td>0</td>\n",
       "      <td>0</td>\n",
       "      <td>0</td>\n",
       "      <td>1</td>\n",
       "    </tr>\n",
       "  </tbody>\n",
       "</table>\n",
       "</div>"
      ],
      "text/plain": [
       "   ssc_percentage  hsc_percentage  degree_percentage  emp_test_percentage  \\\n",
       "0           67.00           91.00              58.00                 55.0   \n",
       "1           79.33           78.33              77.48                 86.5   \n",
       "2           65.00           68.00              64.00                 75.0   \n",
       "3           56.00           52.00              52.00                 66.0   \n",
       "4           85.80           73.60              73.30                 96.8   \n",
       "\n",
       "   mba_percent  gender  ssc_board  hsc_board  hsc_subject  undergrad_degree  \\\n",
       "0        58.80       1          1          1            1                 2   \n",
       "1        66.28       1          0          1            2                 2   \n",
       "2        57.80       1          0          0            0                 0   \n",
       "3        59.43       1          0          0            2                 2   \n",
       "4        55.50       1          0          0            1                 0   \n",
       "\n",
       "   work_experience  specialisation  status  \n",
       "0                0               1       1  \n",
       "1                1               0       1  \n",
       "2                0               0       1  \n",
       "3                0               1       0  \n",
       "4                0               0       1  "
      ]
     },
     "execution_count": 22,
     "metadata": {},
     "output_type": "execute_result"
    }
   ],
   "source": [
    "df_new.head()"
   ]
  },
  {
   "cell_type": "code",
   "execution_count": 23,
   "id": "d6748326",
   "metadata": {},
   "outputs": [
    {
     "name": "stdout",
     "output_type": "stream",
     "text": [
      "<class 'pandas.core.frame.DataFrame'>\n",
      "RangeIndex: 215 entries, 0 to 214\n",
      "Data columns (total 13 columns):\n",
      " #   Column               Non-Null Count  Dtype  \n",
      "---  ------               --------------  -----  \n",
      " 0   ssc_percentage       215 non-null    float64\n",
      " 1   hsc_percentage       215 non-null    float64\n",
      " 2   degree_percentage    215 non-null    float64\n",
      " 3   emp_test_percentage  215 non-null    float64\n",
      " 4   mba_percent          215 non-null    float64\n",
      " 5   gender               215 non-null    int32  \n",
      " 6   ssc_board            215 non-null    int32  \n",
      " 7   hsc_board            215 non-null    int32  \n",
      " 8   hsc_subject          215 non-null    int32  \n",
      " 9   undergrad_degree     215 non-null    int32  \n",
      " 10  work_experience      215 non-null    int32  \n",
      " 11  specialisation       215 non-null    int32  \n",
      " 12  status               215 non-null    int32  \n",
      "dtypes: float64(5), int32(8)\n",
      "memory usage: 15.2 KB\n"
     ]
    }
   ],
   "source": [
    "df_new.info()"
   ]
  },
  {
   "cell_type": "code",
   "execution_count": 24,
   "id": "80956bb9",
   "metadata": {},
   "outputs": [],
   "source": [
    "#select input and output from given dataset\n",
    "X=df_new.drop('status',axis=1) #select input \n",
    "Y=df_new['status'] #select output"
   ]
  },
  {
   "cell_type": "code",
   "execution_count": 25,
   "id": "844b8286",
   "metadata": {},
   "outputs": [
    {
     "data": {
      "text/html": [
       "<div>\n",
       "<style scoped>\n",
       "    .dataframe tbody tr th:only-of-type {\n",
       "        vertical-align: middle;\n",
       "    }\n",
       "\n",
       "    .dataframe tbody tr th {\n",
       "        vertical-align: top;\n",
       "    }\n",
       "\n",
       "    .dataframe thead th {\n",
       "        text-align: right;\n",
       "    }\n",
       "</style>\n",
       "<table border=\"1\" class=\"dataframe\">\n",
       "  <thead>\n",
       "    <tr style=\"text-align: right;\">\n",
       "      <th></th>\n",
       "      <th>ssc_percentage</th>\n",
       "      <th>hsc_percentage</th>\n",
       "      <th>degree_percentage</th>\n",
       "      <th>emp_test_percentage</th>\n",
       "      <th>mba_percent</th>\n",
       "      <th>gender</th>\n",
       "      <th>ssc_board</th>\n",
       "      <th>hsc_board</th>\n",
       "      <th>hsc_subject</th>\n",
       "      <th>undergrad_degree</th>\n",
       "      <th>work_experience</th>\n",
       "      <th>specialisation</th>\n",
       "    </tr>\n",
       "  </thead>\n",
       "  <tbody>\n",
       "    <tr>\n",
       "      <th>0</th>\n",
       "      <td>67.00</td>\n",
       "      <td>91.00</td>\n",
       "      <td>58.00</td>\n",
       "      <td>55.0</td>\n",
       "      <td>58.80</td>\n",
       "      <td>1</td>\n",
       "      <td>1</td>\n",
       "      <td>1</td>\n",
       "      <td>1</td>\n",
       "      <td>2</td>\n",
       "      <td>0</td>\n",
       "      <td>1</td>\n",
       "    </tr>\n",
       "    <tr>\n",
       "      <th>1</th>\n",
       "      <td>79.33</td>\n",
       "      <td>78.33</td>\n",
       "      <td>77.48</td>\n",
       "      <td>86.5</td>\n",
       "      <td>66.28</td>\n",
       "      <td>1</td>\n",
       "      <td>0</td>\n",
       "      <td>1</td>\n",
       "      <td>2</td>\n",
       "      <td>2</td>\n",
       "      <td>1</td>\n",
       "      <td>0</td>\n",
       "    </tr>\n",
       "    <tr>\n",
       "      <th>2</th>\n",
       "      <td>65.00</td>\n",
       "      <td>68.00</td>\n",
       "      <td>64.00</td>\n",
       "      <td>75.0</td>\n",
       "      <td>57.80</td>\n",
       "      <td>1</td>\n",
       "      <td>0</td>\n",
       "      <td>0</td>\n",
       "      <td>0</td>\n",
       "      <td>0</td>\n",
       "      <td>0</td>\n",
       "      <td>0</td>\n",
       "    </tr>\n",
       "    <tr>\n",
       "      <th>3</th>\n",
       "      <td>56.00</td>\n",
       "      <td>52.00</td>\n",
       "      <td>52.00</td>\n",
       "      <td>66.0</td>\n",
       "      <td>59.43</td>\n",
       "      <td>1</td>\n",
       "      <td>0</td>\n",
       "      <td>0</td>\n",
       "      <td>2</td>\n",
       "      <td>2</td>\n",
       "      <td>0</td>\n",
       "      <td>1</td>\n",
       "    </tr>\n",
       "    <tr>\n",
       "      <th>4</th>\n",
       "      <td>85.80</td>\n",
       "      <td>73.60</td>\n",
       "      <td>73.30</td>\n",
       "      <td>96.8</td>\n",
       "      <td>55.50</td>\n",
       "      <td>1</td>\n",
       "      <td>0</td>\n",
       "      <td>0</td>\n",
       "      <td>1</td>\n",
       "      <td>0</td>\n",
       "      <td>0</td>\n",
       "      <td>0</td>\n",
       "    </tr>\n",
       "  </tbody>\n",
       "</table>\n",
       "</div>"
      ],
      "text/plain": [
       "   ssc_percentage  hsc_percentage  degree_percentage  emp_test_percentage  \\\n",
       "0           67.00           91.00              58.00                 55.0   \n",
       "1           79.33           78.33              77.48                 86.5   \n",
       "2           65.00           68.00              64.00                 75.0   \n",
       "3           56.00           52.00              52.00                 66.0   \n",
       "4           85.80           73.60              73.30                 96.8   \n",
       "\n",
       "   mba_percent  gender  ssc_board  hsc_board  hsc_subject  undergrad_degree  \\\n",
       "0        58.80       1          1          1            1                 2   \n",
       "1        66.28       1          0          1            2                 2   \n",
       "2        57.80       1          0          0            0                 0   \n",
       "3        59.43       1          0          0            2                 2   \n",
       "4        55.50       1          0          0            1                 0   \n",
       "\n",
       "   work_experience  specialisation  \n",
       "0                0               1  \n",
       "1                1               0  \n",
       "2                0               0  \n",
       "3                0               1  \n",
       "4                0               0  "
      ]
     },
     "execution_count": 25,
     "metadata": {},
     "output_type": "execute_result"
    }
   ],
   "source": [
    "X.head()"
   ]
  },
  {
   "cell_type": "code",
   "execution_count": 26,
   "id": "9c4bdfb0",
   "metadata": {},
   "outputs": [],
   "source": [
    "#apply train_test_split on 70% training data and 30% testing data\n",
    "from sklearn.model_selection import train_test_split\n",
    "X_train,X_test,Y_train,Y_test=train_test_split(X,Y,test_size=0.3,random_state=1)"
   ]
  },
  {
   "cell_type": "code",
   "execution_count": 27,
   "id": "07a13046",
   "metadata": {},
   "outputs": [
    {
     "data": {
      "text/plain": [
       "((150, 12), (65, 12))"
      ]
     },
     "execution_count": 27,
     "metadata": {},
     "output_type": "execute_result"
    }
   ],
   "source": [
    "X_train.shape,X_test.shape"
   ]
  },
  {
   "cell_type": "code",
   "execution_count": 28,
   "id": "00f11fc4",
   "metadata": {},
   "outputs": [
    {
     "data": {
      "text/plain": [
       "1    103\n",
       "0     47\n",
       "Name: status, dtype: int64"
      ]
     },
     "execution_count": 28,
     "metadata": {},
     "output_type": "execute_result"
    }
   ],
   "source": [
    "#check data in output\n",
    "Y_train.value_counts()"
   ]
  },
  {
   "cell_type": "code",
   "execution_count": 29,
   "id": "390a0eb5",
   "metadata": {},
   "outputs": [],
   "source": [
    "#convert minority class to majority class\n",
    "#using random over sampler method\n",
    "from imblearn.over_sampling import RandomOverSampler"
   ]
  },
  {
   "cell_type": "code",
   "execution_count": 30,
   "id": "af4e0583",
   "metadata": {},
   "outputs": [],
   "source": [
    "#create object of RandomOverSampler class\n",
    "ros=RandomOverSampler(random_state=1)\n",
    "X_train1,Y_train1=ros.fit_resample(X_train,Y_train)"
   ]
  },
  {
   "cell_type": "code",
   "execution_count": 31,
   "id": "6dfa0720",
   "metadata": {
    "scrolled": true
   },
   "outputs": [
    {
     "data": {
      "text/plain": [
       "1    103\n",
       "0    103\n",
       "Name: status, dtype: int64"
      ]
     },
     "execution_count": 31,
     "metadata": {},
     "output_type": "execute_result"
    }
   ],
   "source": [
    "#check bal\n",
    "Y_train1.value_counts()\n",
    "#here data is bal"
   ]
  },
  {
   "cell_type": "code",
   "execution_count": 32,
   "id": "989ca50c",
   "metadata": {},
   "outputs": [],
   "source": [
    "#apply on testing data also\n",
    "X_test1,Y_test1=ros.fit_resample(X_test,Y_test)"
   ]
  },
  {
   "cell_type": "code",
   "execution_count": 33,
   "id": "3737291d",
   "metadata": {},
   "outputs": [
    {
     "data": {
      "text/plain": [
       "1    45\n",
       "0    45\n",
       "Name: status, dtype: int64"
      ]
     },
     "execution_count": 33,
     "metadata": {},
     "output_type": "execute_result"
    }
   ],
   "source": [
    "#check bal\n",
    "Y_test1.value_counts()"
   ]
  },
  {
   "cell_type": "code",
   "execution_count": 34,
   "id": "41dc4b12",
   "metadata": {},
   "outputs": [],
   "source": [
    "#apply standard scaler on input\n",
    "from sklearn.preprocessing import StandardScaler"
   ]
  },
  {
   "cell_type": "code",
   "execution_count": 35,
   "id": "421f46cb",
   "metadata": {},
   "outputs": [],
   "source": [
    "#create object of StandardScaler class\n",
    "ss=StandardScaler()"
   ]
  },
  {
   "cell_type": "code",
   "execution_count": 36,
   "id": "0580ea4a",
   "metadata": {},
   "outputs": [],
   "source": [
    "X_train1=ss.fit_transform(X_train1) #convert into numpy array\n",
    "X_test1=ss.transform(X_test1)#convert into numpy array"
   ]
  },
  {
   "cell_type": "code",
   "execution_count": 37,
   "id": "16a88715",
   "metadata": {},
   "outputs": [],
   "source": [
    "#create fn\n",
    "def create_model(model):\n",
    "    \n",
    "    #train data with 70%\n",
    "    model.fit(X_train1,Y_train1)\n",
    "    #test datawith 30%\n",
    "    Y_pred=model.predict(X_test1)\n",
    "    #generate report\n",
    "    print(classification_report(Y_test1,Y_pred))\n",
    "    print(confusion_matrix(Y_test1,Y_pred))\n",
    "    \n",
    "    return model"
   ]
  },
  {
   "cell_type": "code",
   "execution_count": 38,
   "id": "85066b30",
   "metadata": {},
   "outputs": [],
   "source": [
    "from sklearn.metrics import classification_report,confusion_matrix"
   ]
  },
  {
   "cell_type": "code",
   "execution_count": 39,
   "id": "2d7aafe3",
   "metadata": {},
   "outputs": [],
   "source": [
    "#give dataset to logistregression\n",
    "from sklearn.linear_model import LogisticRegression\n",
    "#create object of class\n",
    "lr=LogisticRegression()"
   ]
  },
  {
   "cell_type": "code",
   "execution_count": 40,
   "id": "c5c37c2a",
   "metadata": {},
   "outputs": [
    {
     "name": "stdout",
     "output_type": "stream",
     "text": [
      "              precision    recall  f1-score   support\n",
      "\n",
      "           0       0.87      0.87      0.87        45\n",
      "           1       0.87      0.87      0.87        45\n",
      "\n",
      "    accuracy                           0.87        90\n",
      "   macro avg       0.87      0.87      0.87        90\n",
      "weighted avg       0.87      0.87      0.87        90\n",
      "\n",
      "[[39  6]\n",
      " [ 6 39]]\n"
     ]
    }
   ],
   "source": [
    "#call fn\n",
    "lr=create_model(lr)\n",
    "#here recall check \n",
    "#recall is 87%"
   ]
  },
  {
   "cell_type": "code",
   "execution_count": 41,
   "id": "9e531ab7",
   "metadata": {},
   "outputs": [],
   "source": [
    "#give dataset to decision tree classifier\n",
    "from sklearn.tree import DecisionTreeClassifier"
   ]
  },
  {
   "cell_type": "code",
   "execution_count": 42,
   "id": "d5a52512",
   "metadata": {},
   "outputs": [],
   "source": [
    "#create object of DecisionTreeClassifier class\n",
    "dt=DecisionTreeClassifier(random_state=1) #by default gini"
   ]
  },
  {
   "cell_type": "code",
   "execution_count": 43,
   "id": "5d017720",
   "metadata": {},
   "outputs": [
    {
     "name": "stdout",
     "output_type": "stream",
     "text": [
      "              precision    recall  f1-score   support\n",
      "\n",
      "           0       0.79      0.51      0.62        45\n",
      "           1       0.64      0.87      0.74        45\n",
      "\n",
      "    accuracy                           0.69        90\n",
      "   macro avg       0.72      0.69      0.68        90\n",
      "weighted avg       0.72      0.69      0.68        90\n",
      "\n",
      "[[23 22]\n",
      " [ 6 39]]\n"
     ]
    }
   ],
   "source": [
    "#call fn\n",
    "dt=create_model(dt)\n",
    "#here recall of 1 is 87% but diff in 0 and 1 is big"
   ]
  },
  {
   "cell_type": "code",
   "execution_count": 44,
   "id": "90c867e1",
   "metadata": {},
   "outputs": [
    {
     "data": {
      "text/html": [
       "<div>\n",
       "<style scoped>\n",
       "    .dataframe tbody tr th:only-of-type {\n",
       "        vertical-align: middle;\n",
       "    }\n",
       "\n",
       "    .dataframe tbody tr th {\n",
       "        vertical-align: top;\n",
       "    }\n",
       "\n",
       "    .dataframe thead th {\n",
       "        text-align: right;\n",
       "    }\n",
       "</style>\n",
       "<table border=\"1\" class=\"dataframe\">\n",
       "  <thead>\n",
       "    <tr style=\"text-align: right;\">\n",
       "      <th></th>\n",
       "      <th>input</th>\n",
       "      <th>IG</th>\n",
       "    </tr>\n",
       "  </thead>\n",
       "  <tbody>\n",
       "    <tr>\n",
       "      <th>0</th>\n",
       "      <td>ssc_percentage</td>\n",
       "      <td>0.514678</td>\n",
       "    </tr>\n",
       "    <tr>\n",
       "      <th>1</th>\n",
       "      <td>hsc_percentage</td>\n",
       "      <td>0.206625</td>\n",
       "    </tr>\n",
       "    <tr>\n",
       "      <th>2</th>\n",
       "      <td>mba_percent</td>\n",
       "      <td>0.136497</td>\n",
       "    </tr>\n",
       "    <tr>\n",
       "      <th>3</th>\n",
       "      <td>emp_test_percentage</td>\n",
       "      <td>0.083449</td>\n",
       "    </tr>\n",
       "    <tr>\n",
       "      <th>4</th>\n",
       "      <td>work_experience</td>\n",
       "      <td>0.045076</td>\n",
       "    </tr>\n",
       "    <tr>\n",
       "      <th>5</th>\n",
       "      <td>specialisation</td>\n",
       "      <td>0.009709</td>\n",
       "    </tr>\n",
       "    <tr>\n",
       "      <th>6</th>\n",
       "      <td>undergrad_degree</td>\n",
       "      <td>0.003967</td>\n",
       "    </tr>\n",
       "    <tr>\n",
       "      <th>7</th>\n",
       "      <td>degree_percentage</td>\n",
       "      <td>0.000000</td>\n",
       "    </tr>\n",
       "    <tr>\n",
       "      <th>8</th>\n",
       "      <td>gender</td>\n",
       "      <td>0.000000</td>\n",
       "    </tr>\n",
       "    <tr>\n",
       "      <th>9</th>\n",
       "      <td>ssc_board</td>\n",
       "      <td>0.000000</td>\n",
       "    </tr>\n",
       "    <tr>\n",
       "      <th>10</th>\n",
       "      <td>hsc_board</td>\n",
       "      <td>0.000000</td>\n",
       "    </tr>\n",
       "    <tr>\n",
       "      <th>11</th>\n",
       "      <td>hsc_subject</td>\n",
       "      <td>0.000000</td>\n",
       "    </tr>\n",
       "  </tbody>\n",
       "</table>\n",
       "</div>"
      ],
      "text/plain": [
       "                  input        IG\n",
       "0        ssc_percentage  0.514678\n",
       "1        hsc_percentage  0.206625\n",
       "2           mba_percent  0.136497\n",
       "3   emp_test_percentage  0.083449\n",
       "4       work_experience  0.045076\n",
       "5        specialisation  0.009709\n",
       "6      undergrad_degree  0.003967\n",
       "7     degree_percentage  0.000000\n",
       "8                gender  0.000000\n",
       "9             ssc_board  0.000000\n",
       "10            hsc_board  0.000000\n",
       "11          hsc_subject  0.000000"
      ]
     },
     "execution_count": 44,
     "metadata": {},
     "output_type": "execute_result"
    }
   ],
   "source": [
    "#check information gain :\n",
    "dict={\"input\":X.columns,\"IG\":dt.feature_importances_}\n",
    "df1=pd.DataFrame(dict)\n",
    "#sorting in desending order\n",
    "#change record no as per sorting\n",
    "df1.sort_values('IG',ascending=False,ignore_index=True)"
   ]
  },
  {
   "cell_type": "raw",
   "id": "fbb0dd84",
   "metadata": {},
   "source": [
    "#apply pruning techniq\n",
    "#1.max depth\n",
    "for i in range (1,9):\n",
    "    #create object of DecisionTreeClassifier class\n",
    "    dt1=DecisionTreeClassifier(random_state=1,max_depth=i)\n",
    "    print(\"max depth \",i)\n",
    "    #call fn\n",
    "    dt1=create_model(dt1)"
   ]
  },
  {
   "cell_type": "code",
   "execution_count": 45,
   "id": "34e4b8f2",
   "metadata": {},
   "outputs": [
    {
     "name": "stdout",
     "output_type": "stream",
     "text": [
      "              precision    recall  f1-score   support\n",
      "\n",
      "           0       0.79      0.51      0.62        45\n",
      "           1       0.64      0.87      0.74        45\n",
      "\n",
      "    accuracy                           0.69        90\n",
      "   macro avg       0.72      0.69      0.68        90\n",
      "weighted avg       0.72      0.69      0.68        90\n",
      "\n",
      "[[23 22]\n",
      " [ 6 39]]\n"
     ]
    }
   ],
   "source": [
    "dt1=DecisionTreeClassifier(random_state=1,max_depth=8)\n",
    "#call fn\n",
    "dt1=create_model(dt1)\n",
    "#at max depth 8 recall is 87% but diff between 0 and 1 is to high"
   ]
  },
  {
   "cell_type": "code",
   "execution_count": 46,
   "id": "aa071299",
   "metadata": {},
   "outputs": [
    {
     "data": {
      "text/html": [
       "<div>\n",
       "<style scoped>\n",
       "    .dataframe tbody tr th:only-of-type {\n",
       "        vertical-align: middle;\n",
       "    }\n",
       "\n",
       "    .dataframe tbody tr th {\n",
       "        vertical-align: top;\n",
       "    }\n",
       "\n",
       "    .dataframe thead th {\n",
       "        text-align: right;\n",
       "    }\n",
       "</style>\n",
       "<table border=\"1\" class=\"dataframe\">\n",
       "  <thead>\n",
       "    <tr style=\"text-align: right;\">\n",
       "      <th></th>\n",
       "      <th>Input</th>\n",
       "      <th>IG</th>\n",
       "    </tr>\n",
       "  </thead>\n",
       "  <tbody>\n",
       "    <tr>\n",
       "      <th>0</th>\n",
       "      <td>ssc_percentage</td>\n",
       "      <td>0.534701</td>\n",
       "    </tr>\n",
       "    <tr>\n",
       "      <th>1</th>\n",
       "      <td>hsc_percentage</td>\n",
       "      <td>0.204337</td>\n",
       "    </tr>\n",
       "    <tr>\n",
       "      <th>2</th>\n",
       "      <td>mba_percent</td>\n",
       "      <td>0.131720</td>\n",
       "    </tr>\n",
       "    <tr>\n",
       "      <th>3</th>\n",
       "      <td>emp_test_percentage</td>\n",
       "      <td>0.068204</td>\n",
       "    </tr>\n",
       "    <tr>\n",
       "      <th>4</th>\n",
       "      <td>work_experience</td>\n",
       "      <td>0.046830</td>\n",
       "    </tr>\n",
       "    <tr>\n",
       "      <th>5</th>\n",
       "      <td>specialisation</td>\n",
       "      <td>0.010086</td>\n",
       "    </tr>\n",
       "    <tr>\n",
       "      <th>6</th>\n",
       "      <td>undergrad_degree</td>\n",
       "      <td>0.004121</td>\n",
       "    </tr>\n",
       "    <tr>\n",
       "      <th>7</th>\n",
       "      <td>degree_percentage</td>\n",
       "      <td>0.000000</td>\n",
       "    </tr>\n",
       "    <tr>\n",
       "      <th>8</th>\n",
       "      <td>gender</td>\n",
       "      <td>0.000000</td>\n",
       "    </tr>\n",
       "    <tr>\n",
       "      <th>9</th>\n",
       "      <td>ssc_board</td>\n",
       "      <td>0.000000</td>\n",
       "    </tr>\n",
       "    <tr>\n",
       "      <th>10</th>\n",
       "      <td>hsc_board</td>\n",
       "      <td>0.000000</td>\n",
       "    </tr>\n",
       "    <tr>\n",
       "      <th>11</th>\n",
       "      <td>hsc_subject</td>\n",
       "      <td>0.000000</td>\n",
       "    </tr>\n",
       "  </tbody>\n",
       "</table>\n",
       "</div>"
      ],
      "text/plain": [
       "                  Input        IG\n",
       "0        ssc_percentage  0.534701\n",
       "1        hsc_percentage  0.204337\n",
       "2           mba_percent  0.131720\n",
       "3   emp_test_percentage  0.068204\n",
       "4       work_experience  0.046830\n",
       "5        specialisation  0.010086\n",
       "6      undergrad_degree  0.004121\n",
       "7     degree_percentage  0.000000\n",
       "8                gender  0.000000\n",
       "9             ssc_board  0.000000\n",
       "10            hsc_board  0.000000\n",
       "11          hsc_subject  0.000000"
      ]
     },
     "execution_count": 46,
     "metadata": {},
     "output_type": "execute_result"
    }
   ],
   "source": [
    "#check information gain\n",
    "dict={\"Input\":X.columns,\"IG\":dt1.feature_importances_}\n",
    "#convert to dataframe\n",
    "df2=pd.DataFrame(dict)\n",
    "#sorting\n",
    "df2.sort_values(\"IG\",ascending=False,ignore_index=True)"
   ]
  },
  {
   "cell_type": "code",
   "execution_count": 47,
   "id": "6c64e5da",
   "metadata": {},
   "outputs": [],
   "source": [
    "#apply second pruning technique min_samples_leaf"
   ]
  },
  {
   "cell_type": "raw",
   "id": "eb150dab",
   "metadata": {},
   "source": [
    "for i in range (45,101):\n",
    "    #create object of decisiontreeclassifier\n",
    "    dt2=DecisionTreeClassifier(random_state=1,min_samples_leaf=i)\n",
    "    print(\"min sample leaf \",i)\n",
    "    #call fn\n",
    "    dt2=create_model(dt2)"
   ]
  },
  {
   "cell_type": "code",
   "execution_count": 48,
   "id": "e65dcf7f",
   "metadata": {},
   "outputs": [
    {
     "name": "stdout",
     "output_type": "stream",
     "text": [
      "              precision    recall  f1-score   support\n",
      "\n",
      "           0       0.78      0.80      0.79        45\n",
      "           1       0.80      0.78      0.79        45\n",
      "\n",
      "    accuracy                           0.79        90\n",
      "   macro avg       0.79      0.79      0.79        90\n",
      "weighted avg       0.79      0.79      0.79        90\n",
      "\n",
      "[[36  9]\n",
      " [10 35]]\n"
     ]
    }
   ],
   "source": [
    "#create object of decisiontreeclassifier\n",
    "dt2=DecisionTreeClassifier(random_state=1,min_samples_leaf=91)\n",
    "#call fn\n",
    "dt2=create_model(dt2)\n",
    "#here recall is 78%"
   ]
  },
  {
   "cell_type": "code",
   "execution_count": 49,
   "id": "fc5d1db7",
   "metadata": {},
   "outputs": [
    {
     "data": {
      "text/html": [
       "<div>\n",
       "<style scoped>\n",
       "    .dataframe tbody tr th:only-of-type {\n",
       "        vertical-align: middle;\n",
       "    }\n",
       "\n",
       "    .dataframe tbody tr th {\n",
       "        vertical-align: top;\n",
       "    }\n",
       "\n",
       "    .dataframe thead th {\n",
       "        text-align: right;\n",
       "    }\n",
       "</style>\n",
       "<table border=\"1\" class=\"dataframe\">\n",
       "  <thead>\n",
       "    <tr style=\"text-align: right;\">\n",
       "      <th></th>\n",
       "      <th>input</th>\n",
       "      <th>IG</th>\n",
       "    </tr>\n",
       "  </thead>\n",
       "  <tbody>\n",
       "    <tr>\n",
       "      <th>0</th>\n",
       "      <td>ssc_percentage</td>\n",
       "      <td>1.0</td>\n",
       "    </tr>\n",
       "    <tr>\n",
       "      <th>1</th>\n",
       "      <td>hsc_percentage</td>\n",
       "      <td>0.0</td>\n",
       "    </tr>\n",
       "    <tr>\n",
       "      <th>2</th>\n",
       "      <td>degree_percentage</td>\n",
       "      <td>0.0</td>\n",
       "    </tr>\n",
       "    <tr>\n",
       "      <th>3</th>\n",
       "      <td>emp_test_percentage</td>\n",
       "      <td>0.0</td>\n",
       "    </tr>\n",
       "    <tr>\n",
       "      <th>4</th>\n",
       "      <td>mba_percent</td>\n",
       "      <td>0.0</td>\n",
       "    </tr>\n",
       "    <tr>\n",
       "      <th>5</th>\n",
       "      <td>gender</td>\n",
       "      <td>0.0</td>\n",
       "    </tr>\n",
       "    <tr>\n",
       "      <th>6</th>\n",
       "      <td>ssc_board</td>\n",
       "      <td>0.0</td>\n",
       "    </tr>\n",
       "    <tr>\n",
       "      <th>7</th>\n",
       "      <td>hsc_board</td>\n",
       "      <td>0.0</td>\n",
       "    </tr>\n",
       "    <tr>\n",
       "      <th>8</th>\n",
       "      <td>hsc_subject</td>\n",
       "      <td>0.0</td>\n",
       "    </tr>\n",
       "    <tr>\n",
       "      <th>9</th>\n",
       "      <td>undergrad_degree</td>\n",
       "      <td>0.0</td>\n",
       "    </tr>\n",
       "    <tr>\n",
       "      <th>10</th>\n",
       "      <td>work_experience</td>\n",
       "      <td>0.0</td>\n",
       "    </tr>\n",
       "    <tr>\n",
       "      <th>11</th>\n",
       "      <td>specialisation</td>\n",
       "      <td>0.0</td>\n",
       "    </tr>\n",
       "  </tbody>\n",
       "</table>\n",
       "</div>"
      ],
      "text/plain": [
       "                  input   IG\n",
       "0        ssc_percentage  1.0\n",
       "1        hsc_percentage  0.0\n",
       "2     degree_percentage  0.0\n",
       "3   emp_test_percentage  0.0\n",
       "4           mba_percent  0.0\n",
       "5                gender  0.0\n",
       "6             ssc_board  0.0\n",
       "7             hsc_board  0.0\n",
       "8           hsc_subject  0.0\n",
       "9      undergrad_degree  0.0\n",
       "10      work_experience  0.0\n",
       "11       specialisation  0.0"
      ]
     },
     "execution_count": 49,
     "metadata": {},
     "output_type": "execute_result"
    }
   ],
   "source": [
    "#check information gain\n",
    "dict={\"input\":X.columns,\"IG\":dt2.feature_importances_}\n",
    "#convert to dataframe\n",
    "df3=pd.DataFrame(dict)\n",
    "#sorting\n",
    "df3.sort_values(\"IG\",ascending=False,ignore_index=True)\n",
    "#here not imp features get o"
   ]
  },
  {
   "cell_type": "code",
   "execution_count": 50,
   "id": "2160471f",
   "metadata": {},
   "outputs": [],
   "source": [
    "#create object of DecisionTreeClassifier class\n",
    "dt_entropy=DecisionTreeClassifier(random_state=1,criterion='entropy') "
   ]
  },
  {
   "cell_type": "code",
   "execution_count": 51,
   "id": "50b508b3",
   "metadata": {},
   "outputs": [
    {
     "name": "stdout",
     "output_type": "stream",
     "text": [
      "              precision    recall  f1-score   support\n",
      "\n",
      "           0       0.74      0.51      0.61        45\n",
      "           1       0.63      0.82      0.71        45\n",
      "\n",
      "    accuracy                           0.67        90\n",
      "   macro avg       0.68      0.67      0.66        90\n",
      "weighted avg       0.68      0.67      0.66        90\n",
      "\n",
      "[[23 22]\n",
      " [ 8 37]]\n"
     ]
    }
   ],
   "source": [
    "#call fn\n",
    "dt_entropy=create_model(dt_entropy)\n",
    "#here recall is 82% "
   ]
  },
  {
   "cell_type": "code",
   "execution_count": 52,
   "id": "7630c50a",
   "metadata": {},
   "outputs": [
    {
     "data": {
      "text/html": [
       "<div>\n",
       "<style scoped>\n",
       "    .dataframe tbody tr th:only-of-type {\n",
       "        vertical-align: middle;\n",
       "    }\n",
       "\n",
       "    .dataframe tbody tr th {\n",
       "        vertical-align: top;\n",
       "    }\n",
       "\n",
       "    .dataframe thead th {\n",
       "        text-align: right;\n",
       "    }\n",
       "</style>\n",
       "<table border=\"1\" class=\"dataframe\">\n",
       "  <thead>\n",
       "    <tr style=\"text-align: right;\">\n",
       "      <th></th>\n",
       "      <th>input</th>\n",
       "      <th>IG</th>\n",
       "    </tr>\n",
       "  </thead>\n",
       "  <tbody>\n",
       "    <tr>\n",
       "      <th>0</th>\n",
       "      <td>ssc_percentage</td>\n",
       "      <td>0.429923</td>\n",
       "    </tr>\n",
       "    <tr>\n",
       "      <th>1</th>\n",
       "      <td>hsc_percentage</td>\n",
       "      <td>0.225255</td>\n",
       "    </tr>\n",
       "    <tr>\n",
       "      <th>2</th>\n",
       "      <td>mba_percent</td>\n",
       "      <td>0.202308</td>\n",
       "    </tr>\n",
       "    <tr>\n",
       "      <th>3</th>\n",
       "      <td>degree_percentage</td>\n",
       "      <td>0.057584</td>\n",
       "    </tr>\n",
       "    <tr>\n",
       "      <th>4</th>\n",
       "      <td>work_experience</td>\n",
       "      <td>0.031500</td>\n",
       "    </tr>\n",
       "    <tr>\n",
       "      <th>5</th>\n",
       "      <td>hsc_board</td>\n",
       "      <td>0.027779</td>\n",
       "    </tr>\n",
       "    <tr>\n",
       "      <th>6</th>\n",
       "      <td>undergrad_degree</td>\n",
       "      <td>0.013373</td>\n",
       "    </tr>\n",
       "    <tr>\n",
       "      <th>7</th>\n",
       "      <td>emp_test_percentage</td>\n",
       "      <td>0.012278</td>\n",
       "    </tr>\n",
       "    <tr>\n",
       "      <th>8</th>\n",
       "      <td>gender</td>\n",
       "      <td>0.000000</td>\n",
       "    </tr>\n",
       "    <tr>\n",
       "      <th>9</th>\n",
       "      <td>ssc_board</td>\n",
       "      <td>0.000000</td>\n",
       "    </tr>\n",
       "    <tr>\n",
       "      <th>10</th>\n",
       "      <td>hsc_subject</td>\n",
       "      <td>0.000000</td>\n",
       "    </tr>\n",
       "    <tr>\n",
       "      <th>11</th>\n",
       "      <td>specialisation</td>\n",
       "      <td>0.000000</td>\n",
       "    </tr>\n",
       "  </tbody>\n",
       "</table>\n",
       "</div>"
      ],
      "text/plain": [
       "                  input        IG\n",
       "0        ssc_percentage  0.429923\n",
       "1        hsc_percentage  0.225255\n",
       "2           mba_percent  0.202308\n",
       "3     degree_percentage  0.057584\n",
       "4       work_experience  0.031500\n",
       "5             hsc_board  0.027779\n",
       "6      undergrad_degree  0.013373\n",
       "7   emp_test_percentage  0.012278\n",
       "8                gender  0.000000\n",
       "9             ssc_board  0.000000\n",
       "10          hsc_subject  0.000000\n",
       "11       specialisation  0.000000"
      ]
     },
     "execution_count": 52,
     "metadata": {},
     "output_type": "execute_result"
    }
   ],
   "source": [
    "#check IG\n",
    "dict={\"input\":X.columns,\"IG\":dt_entropy.feature_importances_}\n",
    "#convert to dataframe\n",
    "df4=pd.DataFrame(dict)\n",
    "#sorting\n",
    "df4.sort_values(\"IG\",ascending=False,ignore_index=True)"
   ]
  },
  {
   "cell_type": "raw",
   "id": "c482428d",
   "metadata": {},
   "source": [
    "#apply pruning techniq\n",
    "#1.max depth\n",
    "\n",
    "for i in range (1,9):\n",
    "    #create object of DecisionTreeClassifier class\n",
    "    dt_entropy1=DecisionTreeClassifier(random_state=1,max_depth=i,criterion='entropy')\n",
    "    print(\"max depth \",i)\n",
    "    #call fn\n",
    "    dt_entropy1=create_model(dt_entropy1)"
   ]
  },
  {
   "cell_type": "code",
   "execution_count": 53,
   "id": "90736e2f",
   "metadata": {},
   "outputs": [
    {
     "name": "stdout",
     "output_type": "stream",
     "text": [
      "              precision    recall  f1-score   support\n",
      "\n",
      "           0       0.81      0.84      0.83        45\n",
      "           1       0.84      0.80      0.82        45\n",
      "\n",
      "    accuracy                           0.82        90\n",
      "   macro avg       0.82      0.82      0.82        90\n",
      "weighted avg       0.82      0.82      0.82        90\n",
      "\n",
      "[[38  7]\n",
      " [ 9 36]]\n"
     ]
    }
   ],
   "source": [
    "#create object of DecisionTreeClassifier class\n",
    "dt_entropy1=DecisionTreeClassifier(random_state=1,max_depth=6,criterion='entropy')\n",
    "#call fn\n",
    "dt_entropy1=create_model(dt_entropy1)\n",
    "#here recall is 80%"
   ]
  },
  {
   "cell_type": "code",
   "execution_count": 54,
   "id": "62fdda5e",
   "metadata": {},
   "outputs": [
    {
     "data": {
      "text/html": [
       "<div>\n",
       "<style scoped>\n",
       "    .dataframe tbody tr th:only-of-type {\n",
       "        vertical-align: middle;\n",
       "    }\n",
       "\n",
       "    .dataframe tbody tr th {\n",
       "        vertical-align: top;\n",
       "    }\n",
       "\n",
       "    .dataframe thead th {\n",
       "        text-align: right;\n",
       "    }\n",
       "</style>\n",
       "<table border=\"1\" class=\"dataframe\">\n",
       "  <thead>\n",
       "    <tr style=\"text-align: right;\">\n",
       "      <th></th>\n",
       "      <th>input</th>\n",
       "      <th>IG</th>\n",
       "    </tr>\n",
       "  </thead>\n",
       "  <tbody>\n",
       "    <tr>\n",
       "      <th>0</th>\n",
       "      <td>ssc_percentage</td>\n",
       "      <td>0.522485</td>\n",
       "    </tr>\n",
       "    <tr>\n",
       "      <th>1</th>\n",
       "      <td>hsc_percentage</td>\n",
       "      <td>0.235463</td>\n",
       "    </tr>\n",
       "    <tr>\n",
       "      <th>2</th>\n",
       "      <td>mba_percent</td>\n",
       "      <td>0.174475</td>\n",
       "    </tr>\n",
       "    <tr>\n",
       "      <th>3</th>\n",
       "      <td>work_experience</td>\n",
       "      <td>0.038281</td>\n",
       "    </tr>\n",
       "    <tr>\n",
       "      <th>4</th>\n",
       "      <td>degree_percentage</td>\n",
       "      <td>0.029296</td>\n",
       "    </tr>\n",
       "    <tr>\n",
       "      <th>5</th>\n",
       "      <td>emp_test_percentage</td>\n",
       "      <td>0.000000</td>\n",
       "    </tr>\n",
       "    <tr>\n",
       "      <th>6</th>\n",
       "      <td>gender</td>\n",
       "      <td>0.000000</td>\n",
       "    </tr>\n",
       "    <tr>\n",
       "      <th>7</th>\n",
       "      <td>ssc_board</td>\n",
       "      <td>0.000000</td>\n",
       "    </tr>\n",
       "    <tr>\n",
       "      <th>8</th>\n",
       "      <td>hsc_board</td>\n",
       "      <td>0.000000</td>\n",
       "    </tr>\n",
       "    <tr>\n",
       "      <th>9</th>\n",
       "      <td>hsc_subject</td>\n",
       "      <td>0.000000</td>\n",
       "    </tr>\n",
       "    <tr>\n",
       "      <th>10</th>\n",
       "      <td>undergrad_degree</td>\n",
       "      <td>0.000000</td>\n",
       "    </tr>\n",
       "    <tr>\n",
       "      <th>11</th>\n",
       "      <td>specialisation</td>\n",
       "      <td>0.000000</td>\n",
       "    </tr>\n",
       "  </tbody>\n",
       "</table>\n",
       "</div>"
      ],
      "text/plain": [
       "                  input        IG\n",
       "0        ssc_percentage  0.522485\n",
       "1        hsc_percentage  0.235463\n",
       "2           mba_percent  0.174475\n",
       "3       work_experience  0.038281\n",
       "4     degree_percentage  0.029296\n",
       "5   emp_test_percentage  0.000000\n",
       "6                gender  0.000000\n",
       "7             ssc_board  0.000000\n",
       "8             hsc_board  0.000000\n",
       "9           hsc_subject  0.000000\n",
       "10     undergrad_degree  0.000000\n",
       "11       specialisation  0.000000"
      ]
     },
     "execution_count": 54,
     "metadata": {},
     "output_type": "execute_result"
    }
   ],
   "source": [
    "#check IG\n",
    "dict={\"input\":X.columns,\"IG\":dt_entropy1.feature_importances_}\n",
    "#convert to dataframe\n",
    "df5=pd.DataFrame(dict)\n",
    "#sorting\n",
    "df5.sort_values(\"IG\",ascending=False,ignore_index=True)"
   ]
  },
  {
   "cell_type": "raw",
   "id": "1cf199ae",
   "metadata": {},
   "source": [
    "#apply second pruning tech mean sample leaf\n",
    "for i in range (45,101):\n",
    "    #create object of DT\n",
    "    dt_entropy2=DecisionTreeClassifier(random_state=1,min_samples_leaf=i,criterion='entropy')\n",
    "    print(\"min sample leaf \",i)\n",
    "    #call fn\n",
    "    dt_entropy2=create_model(dt_entropy2)"
   ]
  },
  {
   "cell_type": "code",
   "execution_count": 55,
   "id": "0f83c427",
   "metadata": {},
   "outputs": [
    {
     "name": "stdout",
     "output_type": "stream",
     "text": [
      "              precision    recall  f1-score   support\n",
      "\n",
      "           0       0.78      0.80      0.79        45\n",
      "           1       0.80      0.78      0.79        45\n",
      "\n",
      "    accuracy                           0.79        90\n",
      "   macro avg       0.79      0.79      0.79        90\n",
      "weighted avg       0.79      0.79      0.79        90\n",
      "\n",
      "[[36  9]\n",
      " [10 35]]\n"
     ]
    }
   ],
   "source": [
    "#create object of DT\n",
    "dt_entropy2=DecisionTreeClassifier(random_state=1,min_samples_leaf=91,criterion='entropy')\n",
    "#call fn\n",
    "dt_entropy2=create_model(dt_entropy2)\n",
    "#at min_samples_leaf=45 then recall is 78%"
   ]
  },
  {
   "cell_type": "code",
   "execution_count": 56,
   "id": "993a8d3b",
   "metadata": {},
   "outputs": [
    {
     "data": {
      "text/html": [
       "<div>\n",
       "<style scoped>\n",
       "    .dataframe tbody tr th:only-of-type {\n",
       "        vertical-align: middle;\n",
       "    }\n",
       "\n",
       "    .dataframe tbody tr th {\n",
       "        vertical-align: top;\n",
       "    }\n",
       "\n",
       "    .dataframe thead th {\n",
       "        text-align: right;\n",
       "    }\n",
       "</style>\n",
       "<table border=\"1\" class=\"dataframe\">\n",
       "  <thead>\n",
       "    <tr style=\"text-align: right;\">\n",
       "      <th></th>\n",
       "      <th>input</th>\n",
       "      <th>IG</th>\n",
       "    </tr>\n",
       "  </thead>\n",
       "  <tbody>\n",
       "    <tr>\n",
       "      <th>0</th>\n",
       "      <td>ssc_percentage</td>\n",
       "      <td>1.0</td>\n",
       "    </tr>\n",
       "    <tr>\n",
       "      <th>1</th>\n",
       "      <td>hsc_percentage</td>\n",
       "      <td>0.0</td>\n",
       "    </tr>\n",
       "    <tr>\n",
       "      <th>2</th>\n",
       "      <td>degree_percentage</td>\n",
       "      <td>0.0</td>\n",
       "    </tr>\n",
       "    <tr>\n",
       "      <th>3</th>\n",
       "      <td>emp_test_percentage</td>\n",
       "      <td>0.0</td>\n",
       "    </tr>\n",
       "    <tr>\n",
       "      <th>4</th>\n",
       "      <td>mba_percent</td>\n",
       "      <td>0.0</td>\n",
       "    </tr>\n",
       "    <tr>\n",
       "      <th>5</th>\n",
       "      <td>gender</td>\n",
       "      <td>0.0</td>\n",
       "    </tr>\n",
       "    <tr>\n",
       "      <th>6</th>\n",
       "      <td>ssc_board</td>\n",
       "      <td>0.0</td>\n",
       "    </tr>\n",
       "    <tr>\n",
       "      <th>7</th>\n",
       "      <td>hsc_board</td>\n",
       "      <td>0.0</td>\n",
       "    </tr>\n",
       "    <tr>\n",
       "      <th>8</th>\n",
       "      <td>hsc_subject</td>\n",
       "      <td>0.0</td>\n",
       "    </tr>\n",
       "    <tr>\n",
       "      <th>9</th>\n",
       "      <td>undergrad_degree</td>\n",
       "      <td>0.0</td>\n",
       "    </tr>\n",
       "    <tr>\n",
       "      <th>10</th>\n",
       "      <td>work_experience</td>\n",
       "      <td>0.0</td>\n",
       "    </tr>\n",
       "    <tr>\n",
       "      <th>11</th>\n",
       "      <td>specialisation</td>\n",
       "      <td>0.0</td>\n",
       "    </tr>\n",
       "  </tbody>\n",
       "</table>\n",
       "</div>"
      ],
      "text/plain": [
       "                  input   IG\n",
       "0        ssc_percentage  1.0\n",
       "1        hsc_percentage  0.0\n",
       "2     degree_percentage  0.0\n",
       "3   emp_test_percentage  0.0\n",
       "4           mba_percent  0.0\n",
       "5                gender  0.0\n",
       "6             ssc_board  0.0\n",
       "7             hsc_board  0.0\n",
       "8           hsc_subject  0.0\n",
       "9      undergrad_degree  0.0\n",
       "10      work_experience  0.0\n",
       "11       specialisation  0.0"
      ]
     },
     "execution_count": 56,
     "metadata": {},
     "output_type": "execute_result"
    }
   ],
   "source": [
    "#check IG\n",
    "dict={\"input\":X.columns,\"IG\":dt_entropy2.feature_importances_}\n",
    "#convert to dataframe\n",
    "df6=pd.DataFrame(dict)\n",
    "#sorting\n",
    "df6.sort_values(\"IG\",ascending=False,ignore_index=True)"
   ]
  },
  {
   "cell_type": "code",
   "execution_count": 57,
   "id": "7de29927",
   "metadata": {},
   "outputs": [],
   "source": [
    "#give dataset to random forest classifer"
   ]
  },
  {
   "cell_type": "code",
   "execution_count": 58,
   "id": "a0e304fc",
   "metadata": {},
   "outputs": [],
   "source": [
    "from sklearn.ensemble import RandomForestClassifier"
   ]
  },
  {
   "cell_type": "raw",
   "id": "fb81cfde",
   "metadata": {},
   "source": [
    "for i in range (10,101):\n",
    "    #create object of RandomForestClassifier\n",
    "    rfc=RandomForestClassifier(n_estimators=i,random_state=1)\n",
    "    print(\"no of decision tree \",i)\n",
    "    #call fn\n",
    "    rfc=create_model(rfc)\n",
    "    #here n_estimators means take how many no. of decisiontree"
   ]
  },
  {
   "cell_type": "code",
   "execution_count": 59,
   "id": "b0e2f92b",
   "metadata": {},
   "outputs": [
    {
     "name": "stdout",
     "output_type": "stream",
     "text": [
      "              precision    recall  f1-score   support\n",
      "\n",
      "           0       0.90      0.82      0.86        45\n",
      "           1       0.84      0.91      0.87        45\n",
      "\n",
      "    accuracy                           0.87        90\n",
      "   macro avg       0.87      0.87      0.87        90\n",
      "weighted avg       0.87      0.87      0.87        90\n",
      "\n",
      "[[37  8]\n",
      " [ 4 41]]\n"
     ]
    }
   ],
   "source": [
    "#create object of RandomForestClassifier\n",
    "rfc=RandomForestClassifier(n_estimators=51,random_state=1)\n",
    "#call fn\n",
    "rfc=create_model(rfc)\n",
    "#here recall is 91% bur diff between 0 and 1 is 9%"
   ]
  },
  {
   "cell_type": "code",
   "execution_count": 60,
   "id": "10e673c6",
   "metadata": {},
   "outputs": [
    {
     "data": {
      "text/html": [
       "<div>\n",
       "<style scoped>\n",
       "    .dataframe tbody tr th:only-of-type {\n",
       "        vertical-align: middle;\n",
       "    }\n",
       "\n",
       "    .dataframe tbody tr th {\n",
       "        vertical-align: top;\n",
       "    }\n",
       "\n",
       "    .dataframe thead th {\n",
       "        text-align: right;\n",
       "    }\n",
       "</style>\n",
       "<table border=\"1\" class=\"dataframe\">\n",
       "  <thead>\n",
       "    <tr style=\"text-align: right;\">\n",
       "      <th></th>\n",
       "      <th>input</th>\n",
       "      <th>IG</th>\n",
       "    </tr>\n",
       "  </thead>\n",
       "  <tbody>\n",
       "    <tr>\n",
       "      <th>0</th>\n",
       "      <td>ssc_percentage</td>\n",
       "      <td>0.262160</td>\n",
       "    </tr>\n",
       "    <tr>\n",
       "      <th>1</th>\n",
       "      <td>hsc_percentage</td>\n",
       "      <td>0.216279</td>\n",
       "    </tr>\n",
       "    <tr>\n",
       "      <th>2</th>\n",
       "      <td>degree_percentage</td>\n",
       "      <td>0.148421</td>\n",
       "    </tr>\n",
       "    <tr>\n",
       "      <th>3</th>\n",
       "      <td>mba_percent</td>\n",
       "      <td>0.122817</td>\n",
       "    </tr>\n",
       "    <tr>\n",
       "      <th>4</th>\n",
       "      <td>emp_test_percentage</td>\n",
       "      <td>0.093897</td>\n",
       "    </tr>\n",
       "    <tr>\n",
       "      <th>5</th>\n",
       "      <td>work_experience</td>\n",
       "      <td>0.039273</td>\n",
       "    </tr>\n",
       "    <tr>\n",
       "      <th>6</th>\n",
       "      <td>gender</td>\n",
       "      <td>0.025392</td>\n",
       "    </tr>\n",
       "    <tr>\n",
       "      <th>7</th>\n",
       "      <td>specialisation</td>\n",
       "      <td>0.023810</td>\n",
       "    </tr>\n",
       "    <tr>\n",
       "      <th>8</th>\n",
       "      <td>hsc_subject</td>\n",
       "      <td>0.020072</td>\n",
       "    </tr>\n",
       "    <tr>\n",
       "      <th>9</th>\n",
       "      <td>undergrad_degree</td>\n",
       "      <td>0.019837</td>\n",
       "    </tr>\n",
       "    <tr>\n",
       "      <th>10</th>\n",
       "      <td>hsc_board</td>\n",
       "      <td>0.015995</td>\n",
       "    </tr>\n",
       "    <tr>\n",
       "      <th>11</th>\n",
       "      <td>ssc_board</td>\n",
       "      <td>0.012047</td>\n",
       "    </tr>\n",
       "  </tbody>\n",
       "</table>\n",
       "</div>"
      ],
      "text/plain": [
       "                  input        IG\n",
       "0        ssc_percentage  0.262160\n",
       "1        hsc_percentage  0.216279\n",
       "2     degree_percentage  0.148421\n",
       "3           mba_percent  0.122817\n",
       "4   emp_test_percentage  0.093897\n",
       "5       work_experience  0.039273\n",
       "6                gender  0.025392\n",
       "7        specialisation  0.023810\n",
       "8           hsc_subject  0.020072\n",
       "9      undergrad_degree  0.019837\n",
       "10            hsc_board  0.015995\n",
       "11            ssc_board  0.012047"
      ]
     },
     "execution_count": 60,
     "metadata": {},
     "output_type": "execute_result"
    }
   ],
   "source": [
    "#check information gain :\n",
    "dict={\"input\":X.columns,\"IG\":rfc.feature_importances_}\n",
    "#convert dict to dataframe\n",
    "df1=pd.DataFrame(dict)\n",
    "#sorting in desending order\n",
    "#change record no as per sorting\n",
    "df1.sort_values('IG',ascending=False,ignore_index=True)"
   ]
  },
  {
   "cell_type": "raw",
   "id": "de0bad2c",
   "metadata": {},
   "source": [
    "#apply Pruning Technique:max_depth :\n",
    "for i in range(1,9): #start=1 stop=9-1=8 step=+1\n",
    "    rfc1=RandomForestClassifier(n_estimators=51,random_state=1,max_depth=i) #bydefault gini\n",
    "    print(\"max depth : \",i)\n",
    "    #call function \n",
    "    rfc1=create_model(rfc1)"
   ]
  },
  {
   "cell_type": "code",
   "execution_count": 61,
   "id": "d6f3f359",
   "metadata": {},
   "outputs": [
    {
     "name": "stdout",
     "output_type": "stream",
     "text": [
      "              precision    recall  f1-score   support\n",
      "\n",
      "           0       0.91      0.71      0.80        45\n",
      "           1       0.76      0.93      0.84        45\n",
      "\n",
      "    accuracy                           0.82        90\n",
      "   macro avg       0.84      0.82      0.82        90\n",
      "weighted avg       0.84      0.82      0.82        90\n",
      "\n",
      "[[32 13]\n",
      " [ 3 42]]\n"
     ]
    }
   ],
   "source": [
    "rfc1=RandomForestClassifier(n_estimators=51,random_state=1,max_depth=8) \n",
    "#call function \n",
    "rfc1=create_model(rfc1)\n",
    "#here recall is 93% but diff between 0 and 1 cat is high"
   ]
  },
  {
   "cell_type": "raw",
   "id": "b82cb5a2",
   "metadata": {
    "scrolled": false
   },
   "source": [
    "#apply second pruning tech \n",
    "#min sample leaf\n",
    "for i in range(45,101,1):\n",
    "    \n",
    "    rfc2=RandomForestClassifier(n_estimators=51,random_state=1,min_samples_leaf=i) \n",
    "\n",
    "    #by default gini index\n",
    "    print(\"min samples leaf: \",i)\n",
    "    #call fn\n",
    "    rfc2=create_model(rfc2)\n",
    "    #"
   ]
  },
  {
   "cell_type": "code",
   "execution_count": 62,
   "id": "e6e72900",
   "metadata": {},
   "outputs": [
    {
     "name": "stdout",
     "output_type": "stream",
     "text": [
      "              precision    recall  f1-score   support\n",
      "\n",
      "           0       0.78      0.80      0.79        45\n",
      "           1       0.80      0.78      0.79        45\n",
      "\n",
      "    accuracy                           0.79        90\n",
      "   macro avg       0.79      0.79      0.79        90\n",
      "weighted avg       0.79      0.79      0.79        90\n",
      "\n",
      "[[36  9]\n",
      " [10 35]]\n"
     ]
    }
   ],
   "source": [
    "rfc2=RandomForestClassifier(n_estimators=51,random_state=1,min_samples_leaf=64) \n",
    "#call fn\n",
    "rfc2=create_model(rfc2)\n",
    "#here recall is 78%"
   ]
  },
  {
   "cell_type": "code",
   "execution_count": 63,
   "id": "247c9342",
   "metadata": {},
   "outputs": [
    {
     "data": {
      "text/html": [
       "<div>\n",
       "<style scoped>\n",
       "    .dataframe tbody tr th:only-of-type {\n",
       "        vertical-align: middle;\n",
       "    }\n",
       "\n",
       "    .dataframe tbody tr th {\n",
       "        vertical-align: top;\n",
       "    }\n",
       "\n",
       "    .dataframe thead th {\n",
       "        text-align: right;\n",
       "    }\n",
       "</style>\n",
       "<table border=\"1\" class=\"dataframe\">\n",
       "  <thead>\n",
       "    <tr style=\"text-align: right;\">\n",
       "      <th></th>\n",
       "      <th>input</th>\n",
       "      <th>IG</th>\n",
       "    </tr>\n",
       "  </thead>\n",
       "  <tbody>\n",
       "    <tr>\n",
       "      <th>0</th>\n",
       "      <td>ssc_percentage</td>\n",
       "      <td>0.333333</td>\n",
       "    </tr>\n",
       "    <tr>\n",
       "      <th>1</th>\n",
       "      <td>specialisation</td>\n",
       "      <td>0.259259</td>\n",
       "    </tr>\n",
       "    <tr>\n",
       "      <th>2</th>\n",
       "      <td>mba_percent</td>\n",
       "      <td>0.185185</td>\n",
       "    </tr>\n",
       "    <tr>\n",
       "      <th>3</th>\n",
       "      <td>hsc_percentage</td>\n",
       "      <td>0.111111</td>\n",
       "    </tr>\n",
       "    <tr>\n",
       "      <th>4</th>\n",
       "      <td>emp_test_percentage</td>\n",
       "      <td>0.037037</td>\n",
       "    </tr>\n",
       "    <tr>\n",
       "      <th>5</th>\n",
       "      <td>ssc_board</td>\n",
       "      <td>0.037037</td>\n",
       "    </tr>\n",
       "    <tr>\n",
       "      <th>6</th>\n",
       "      <td>hsc_board</td>\n",
       "      <td>0.037037</td>\n",
       "    </tr>\n",
       "    <tr>\n",
       "      <th>7</th>\n",
       "      <td>degree_percentage</td>\n",
       "      <td>0.000000</td>\n",
       "    </tr>\n",
       "    <tr>\n",
       "      <th>8</th>\n",
       "      <td>gender</td>\n",
       "      <td>0.000000</td>\n",
       "    </tr>\n",
       "    <tr>\n",
       "      <th>9</th>\n",
       "      <td>hsc_subject</td>\n",
       "      <td>0.000000</td>\n",
       "    </tr>\n",
       "    <tr>\n",
       "      <th>10</th>\n",
       "      <td>undergrad_degree</td>\n",
       "      <td>0.000000</td>\n",
       "    </tr>\n",
       "    <tr>\n",
       "      <th>11</th>\n",
       "      <td>work_experience</td>\n",
       "      <td>0.000000</td>\n",
       "    </tr>\n",
       "  </tbody>\n",
       "</table>\n",
       "</div>"
      ],
      "text/plain": [
       "                  input        IG\n",
       "0        ssc_percentage  0.333333\n",
       "1        specialisation  0.259259\n",
       "2           mba_percent  0.185185\n",
       "3        hsc_percentage  0.111111\n",
       "4   emp_test_percentage  0.037037\n",
       "5             ssc_board  0.037037\n",
       "6             hsc_board  0.037037\n",
       "7     degree_percentage  0.000000\n",
       "8                gender  0.000000\n",
       "9           hsc_subject  0.000000\n",
       "10     undergrad_degree  0.000000\n",
       "11      work_experience  0.000000"
      ]
     },
     "execution_count": 63,
     "metadata": {},
     "output_type": "execute_result"
    }
   ],
   "source": [
    "#check information gain :\n",
    "dict={\"input\":X.columns,\"IG\":rfc2.feature_importances_}\n",
    "#convert dict to dataframe\n",
    "df2=pd.DataFrame(dict)\n",
    "#sorting in desending order\n",
    "#change record no as per sorting\n",
    "df2.sort_values('IG',ascending=False,ignore_index=True)"
   ]
  },
  {
   "cell_type": "code",
   "execution_count": 64,
   "id": "45fea81f",
   "metadata": {},
   "outputs": [],
   "source": [
    "#apply boosting technique\n",
    "#first apply ADA boost\n",
    "from sklearn.ensemble import AdaBoostClassifier"
   ]
  },
  {
   "cell_type": "code",
   "execution_count": 65,
   "id": "73c3964b",
   "metadata": {},
   "outputs": [
    {
     "data": {
      "text/plain": [
       "(215, 12)"
      ]
     },
     "execution_count": 65,
     "metadata": {},
     "output_type": "execute_result"
    }
   ],
   "source": [
    "X.shape"
   ]
  },
  {
   "cell_type": "raw",
   "id": "62647b93",
   "metadata": {},
   "source": [
    "#check how many feature imp\n",
    "for i in range (1,13):\n",
    "    #create object of AdaBoostClassifier\n",
    "    ada=AdaBoostClassifier(random_state=1,n_estimators=i)\n",
    "    print(\"no of decision stump \",i)\n",
    "    #call fn\n",
    "    ada=create_model(ada)\n",
    "    \n",
    "#here n_estimators = no of decision stump"
   ]
  },
  {
   "cell_type": "code",
   "execution_count": 66,
   "id": "dd910dea",
   "metadata": {},
   "outputs": [
    {
     "name": "stdout",
     "output_type": "stream",
     "text": [
      "              precision    recall  f1-score   support\n",
      "\n",
      "           0       0.85      0.91      0.88        45\n",
      "           1       0.90      0.84      0.87        45\n",
      "\n",
      "    accuracy                           0.88        90\n",
      "   macro avg       0.88      0.88      0.88        90\n",
      "weighted avg       0.88      0.88      0.88        90\n",
      "\n",
      "[[41  4]\n",
      " [ 7 38]]\n"
     ]
    }
   ],
   "source": [
    "#create object of AdaBoostClassifier\n",
    "ada=AdaBoostClassifier(random_state=1,n_estimators=7)\n",
    "#call fn\n",
    "ada=create_model(ada)\n",
    "#here recall is 84% but diff between 0 and 1 is 7%"
   ]
  },
  {
   "cell_type": "code",
   "execution_count": 67,
   "id": "8779882d",
   "metadata": {},
   "outputs": [
    {
     "data": {
      "text/html": [
       "<div>\n",
       "<style scoped>\n",
       "    .dataframe tbody tr th:only-of-type {\n",
       "        vertical-align: middle;\n",
       "    }\n",
       "\n",
       "    .dataframe tbody tr th {\n",
       "        vertical-align: top;\n",
       "    }\n",
       "\n",
       "    .dataframe thead th {\n",
       "        text-align: right;\n",
       "    }\n",
       "</style>\n",
       "<table border=\"1\" class=\"dataframe\">\n",
       "  <thead>\n",
       "    <tr style=\"text-align: right;\">\n",
       "      <th></th>\n",
       "      <th>input</th>\n",
       "      <th>IG</th>\n",
       "    </tr>\n",
       "  </thead>\n",
       "  <tbody>\n",
       "    <tr>\n",
       "      <th>0</th>\n",
       "      <td>ssc_percentage</td>\n",
       "      <td>0.285714</td>\n",
       "    </tr>\n",
       "    <tr>\n",
       "      <th>1</th>\n",
       "      <td>mba_percent</td>\n",
       "      <td>0.285714</td>\n",
       "    </tr>\n",
       "    <tr>\n",
       "      <th>2</th>\n",
       "      <td>hsc_percentage</td>\n",
       "      <td>0.142857</td>\n",
       "    </tr>\n",
       "    <tr>\n",
       "      <th>3</th>\n",
       "      <td>degree_percentage</td>\n",
       "      <td>0.142857</td>\n",
       "    </tr>\n",
       "    <tr>\n",
       "      <th>4</th>\n",
       "      <td>work_experience</td>\n",
       "      <td>0.142857</td>\n",
       "    </tr>\n",
       "    <tr>\n",
       "      <th>5</th>\n",
       "      <td>emp_test_percentage</td>\n",
       "      <td>0.000000</td>\n",
       "    </tr>\n",
       "    <tr>\n",
       "      <th>6</th>\n",
       "      <td>gender</td>\n",
       "      <td>0.000000</td>\n",
       "    </tr>\n",
       "    <tr>\n",
       "      <th>7</th>\n",
       "      <td>ssc_board</td>\n",
       "      <td>0.000000</td>\n",
       "    </tr>\n",
       "    <tr>\n",
       "      <th>8</th>\n",
       "      <td>hsc_board</td>\n",
       "      <td>0.000000</td>\n",
       "    </tr>\n",
       "    <tr>\n",
       "      <th>9</th>\n",
       "      <td>hsc_subject</td>\n",
       "      <td>0.000000</td>\n",
       "    </tr>\n",
       "    <tr>\n",
       "      <th>10</th>\n",
       "      <td>undergrad_degree</td>\n",
       "      <td>0.000000</td>\n",
       "    </tr>\n",
       "    <tr>\n",
       "      <th>11</th>\n",
       "      <td>specialisation</td>\n",
       "      <td>0.000000</td>\n",
       "    </tr>\n",
       "  </tbody>\n",
       "</table>\n",
       "</div>"
      ],
      "text/plain": [
       "                  input        IG\n",
       "0        ssc_percentage  0.285714\n",
       "1           mba_percent  0.285714\n",
       "2        hsc_percentage  0.142857\n",
       "3     degree_percentage  0.142857\n",
       "4       work_experience  0.142857\n",
       "5   emp_test_percentage  0.000000\n",
       "6                gender  0.000000\n",
       "7             ssc_board  0.000000\n",
       "8             hsc_board  0.000000\n",
       "9           hsc_subject  0.000000\n",
       "10     undergrad_degree  0.000000\n",
       "11       specialisation  0.000000"
      ]
     },
     "execution_count": 67,
     "metadata": {},
     "output_type": "execute_result"
    }
   ],
   "source": [
    "#check imp features\n",
    "#check information gain :\n",
    "dict={\"input\":X.columns,\"IG\":ada.feature_importances_}\n",
    "#convert dict to dataframe\n",
    "df1=pd.DataFrame(dict)\n",
    "#sorting in desending order\n",
    "#change record no as per sorting\n",
    "df1.sort_values('IG',ascending=False,ignore_index=True)"
   ]
  },
  {
   "cell_type": "code",
   "execution_count": 68,
   "id": "9a00669f",
   "metadata": {},
   "outputs": [],
   "source": [
    "#apply second boosting tech gradient boost\n",
    "from sklearn.ensemble import GradientBoostingClassifier"
   ]
  },
  {
   "cell_type": "raw",
   "id": "aa37d7c3",
   "metadata": {},
   "source": [
    "#create object of GradientBoostingClassifier class\n",
    "#and passing parameter means how many iteration means how many \n",
    "#decisiontree use to train the model\n",
    "#n_estimator >=10 and <=100\n",
    "for i in range (10,101):\n",
    "    #create object of GradientBoostingClassifier class\n",
    "    gbc=GradientBoostingClassifier(random_state=1,n_estimators=i)\n",
    "    print(\"no of estimators \",i)\n",
    "    #call fn\n",
    "    gbc=create_model(gbc)"
   ]
  },
  {
   "cell_type": "code",
   "execution_count": 69,
   "id": "9d97319c",
   "metadata": {},
   "outputs": [
    {
     "name": "stdout",
     "output_type": "stream",
     "text": [
      "              precision    recall  f1-score   support\n",
      "\n",
      "           0       0.84      0.60      0.70        45\n",
      "           1       0.69      0.89      0.78        45\n",
      "\n",
      "    accuracy                           0.74        90\n",
      "   macro avg       0.77      0.74      0.74        90\n",
      "weighted avg       0.77      0.74      0.74        90\n",
      "\n",
      "[[27 18]\n",
      " [ 5 40]]\n"
     ]
    }
   ],
   "source": [
    "#create object of GradientBoostingClassifier class\n",
    "gbc=GradientBoostingClassifier(random_state=1,n_estimators=20)\n",
    "#call fn\n",
    "gbc=create_model(gbc)\n",
    "#here recall is 89% and diff between cat 0 and 1 is high\n",
    "#and n_estimator=20\n",
    "#after 20 iteration shows imp feature"
   ]
  },
  {
   "cell_type": "code",
   "execution_count": 70,
   "id": "f45cd40b",
   "metadata": {},
   "outputs": [
    {
     "data": {
      "text/html": [
       "<div>\n",
       "<style scoped>\n",
       "    .dataframe tbody tr th:only-of-type {\n",
       "        vertical-align: middle;\n",
       "    }\n",
       "\n",
       "    .dataframe tbody tr th {\n",
       "        vertical-align: top;\n",
       "    }\n",
       "\n",
       "    .dataframe thead th {\n",
       "        text-align: right;\n",
       "    }\n",
       "</style>\n",
       "<table border=\"1\" class=\"dataframe\">\n",
       "  <thead>\n",
       "    <tr style=\"text-align: right;\">\n",
       "      <th></th>\n",
       "      <th>input</th>\n",
       "      <th>IG</th>\n",
       "    </tr>\n",
       "  </thead>\n",
       "  <tbody>\n",
       "    <tr>\n",
       "      <th>0</th>\n",
       "      <td>ssc_percentage</td>\n",
       "      <td>0.589199</td>\n",
       "    </tr>\n",
       "    <tr>\n",
       "      <th>1</th>\n",
       "      <td>hsc_percentage</td>\n",
       "      <td>0.151872</td>\n",
       "    </tr>\n",
       "    <tr>\n",
       "      <th>2</th>\n",
       "      <td>mba_percent</td>\n",
       "      <td>0.108346</td>\n",
       "    </tr>\n",
       "    <tr>\n",
       "      <th>3</th>\n",
       "      <td>degree_percentage</td>\n",
       "      <td>0.050890</td>\n",
       "    </tr>\n",
       "    <tr>\n",
       "      <th>4</th>\n",
       "      <td>work_experience</td>\n",
       "      <td>0.028134</td>\n",
       "    </tr>\n",
       "    <tr>\n",
       "      <th>5</th>\n",
       "      <td>emp_test_percentage</td>\n",
       "      <td>0.028126</td>\n",
       "    </tr>\n",
       "    <tr>\n",
       "      <th>6</th>\n",
       "      <td>gender</td>\n",
       "      <td>0.015279</td>\n",
       "    </tr>\n",
       "    <tr>\n",
       "      <th>7</th>\n",
       "      <td>specialisation</td>\n",
       "      <td>0.011894</td>\n",
       "    </tr>\n",
       "    <tr>\n",
       "      <th>8</th>\n",
       "      <td>hsc_board</td>\n",
       "      <td>0.010239</td>\n",
       "    </tr>\n",
       "    <tr>\n",
       "      <th>9</th>\n",
       "      <td>hsc_subject</td>\n",
       "      <td>0.003861</td>\n",
       "    </tr>\n",
       "    <tr>\n",
       "      <th>10</th>\n",
       "      <td>undergrad_degree</td>\n",
       "      <td>0.001429</td>\n",
       "    </tr>\n",
       "    <tr>\n",
       "      <th>11</th>\n",
       "      <td>ssc_board</td>\n",
       "      <td>0.000731</td>\n",
       "    </tr>\n",
       "  </tbody>\n",
       "</table>\n",
       "</div>"
      ],
      "text/plain": [
       "                  input        IG\n",
       "0        ssc_percentage  0.589199\n",
       "1        hsc_percentage  0.151872\n",
       "2           mba_percent  0.108346\n",
       "3     degree_percentage  0.050890\n",
       "4       work_experience  0.028134\n",
       "5   emp_test_percentage  0.028126\n",
       "6                gender  0.015279\n",
       "7        specialisation  0.011894\n",
       "8             hsc_board  0.010239\n",
       "9           hsc_subject  0.003861\n",
       "10     undergrad_degree  0.001429\n",
       "11            ssc_board  0.000731"
      ]
     },
     "execution_count": 70,
     "metadata": {},
     "output_type": "execute_result"
    }
   ],
   "source": [
    "#check imp features\n",
    "#check information gain :\n",
    "dict={\"input\":X.columns,\"IG\":gbc.feature_importances_}\n",
    "#convert dict to dataframe\n",
    "df2=pd.DataFrame(dict)\n",
    "#sorting in desending order\n",
    "#change record no as per sorting\n",
    "df2.sort_values('IG',ascending=False,ignore_index=True)"
   ]
  },
  {
   "cell_type": "code",
   "execution_count": 71,
   "id": "9362ec4c",
   "metadata": {},
   "outputs": [],
   "source": [
    "#apply extreme gradient boost tech\n",
    "#work on gradient boost\n",
    "#advanced version of gradient boost\n",
    "#overfit situation handle\n",
    "#outliear handle and null value handle\n",
    "#it is better than gradient boost"
   ]
  },
  {
   "cell_type": "code",
   "execution_count": 72,
   "id": "f1ea88c4",
   "metadata": {},
   "outputs": [],
   "source": [
    "#first to install xgboost\n",
    "#!pip install xgboost"
   ]
  },
  {
   "cell_type": "code",
   "execution_count": 73,
   "id": "12e15fac",
   "metadata": {},
   "outputs": [],
   "source": [
    "#first to install xgboost\n",
    "#!pip install xgboost"
   ]
  },
  {
   "cell_type": "code",
   "execution_count": 74,
   "id": "1a087c87",
   "metadata": {},
   "outputs": [],
   "source": [
    "from xgboost import XGBClassifier"
   ]
  },
  {
   "cell_type": "raw",
   "id": "6ff6a39e",
   "metadata": {},
   "source": [
    "for i in range (10,101):\n",
    "    #create object of GradientBoostingClassifier class\n",
    "    xgc=XGBClassifier(random_state=1,n_estimators=i,reg_alpha=1)\n",
    "    print(\"no of estimators \",i)\n",
    "    #call fn\n",
    "    xgc=create_model(xgc)\n",
    "#reg_alpha=1 here 1 means doing task to t=remove outlier and overfitting\n",
    "#reg means regularisation and alpha means Lambda means hyperparameter\n",
    "#if reg_alpha=1 , 1 means True means automatic handle outlier and overfitting"
   ]
  },
  {
   "cell_type": "code",
   "execution_count": 75,
   "id": "5f1793e1",
   "metadata": {},
   "outputs": [
    {
     "name": "stdout",
     "output_type": "stream",
     "text": [
      "              precision    recall  f1-score   support\n",
      "\n",
      "           0       0.86      0.67      0.75        45\n",
      "           1       0.73      0.89      0.80        45\n",
      "\n",
      "    accuracy                           0.78        90\n",
      "   macro avg       0.79      0.78      0.77        90\n",
      "weighted avg       0.79      0.78      0.78        90\n",
      "\n",
      "[[30 15]\n",
      " [ 5 40]]\n"
     ]
    }
   ],
   "source": [
    "#create object of GradientBoostingClassifier class\n",
    "xgc=XGBClassifier(random_state=1,n_estimators=14,reg_alpha=1)\n",
    "#call fn\n",
    "xgc=create_model(xgc)\n",
    "#here recall is 89%\n",
    "#but diff between cat 0 and 1 is to high"
   ]
  },
  {
   "cell_type": "code",
   "execution_count": 76,
   "id": "c82f84a4",
   "metadata": {},
   "outputs": [
    {
     "data": {
      "text/html": [
       "<div>\n",
       "<style scoped>\n",
       "    .dataframe tbody tr th:only-of-type {\n",
       "        vertical-align: middle;\n",
       "    }\n",
       "\n",
       "    .dataframe tbody tr th {\n",
       "        vertical-align: top;\n",
       "    }\n",
       "\n",
       "    .dataframe thead th {\n",
       "        text-align: right;\n",
       "    }\n",
       "</style>\n",
       "<table border=\"1\" class=\"dataframe\">\n",
       "  <thead>\n",
       "    <tr style=\"text-align: right;\">\n",
       "      <th></th>\n",
       "      <th>input</th>\n",
       "      <th>IG</th>\n",
       "    </tr>\n",
       "  </thead>\n",
       "  <tbody>\n",
       "    <tr>\n",
       "      <th>0</th>\n",
       "      <td>ssc_percentage</td>\n",
       "      <td>0.305936</td>\n",
       "    </tr>\n",
       "    <tr>\n",
       "      <th>1</th>\n",
       "      <td>gender</td>\n",
       "      <td>0.202385</td>\n",
       "    </tr>\n",
       "    <tr>\n",
       "      <th>2</th>\n",
       "      <td>hsc_board</td>\n",
       "      <td>0.111918</td>\n",
       "    </tr>\n",
       "    <tr>\n",
       "      <th>3</th>\n",
       "      <td>work_experience</td>\n",
       "      <td>0.083812</td>\n",
       "    </tr>\n",
       "    <tr>\n",
       "      <th>4</th>\n",
       "      <td>mba_percent</td>\n",
       "      <td>0.065999</td>\n",
       "    </tr>\n",
       "    <tr>\n",
       "      <th>5</th>\n",
       "      <td>specialisation</td>\n",
       "      <td>0.058826</td>\n",
       "    </tr>\n",
       "    <tr>\n",
       "      <th>6</th>\n",
       "      <td>hsc_percentage</td>\n",
       "      <td>0.057226</td>\n",
       "    </tr>\n",
       "    <tr>\n",
       "      <th>7</th>\n",
       "      <td>ssc_board</td>\n",
       "      <td>0.042911</td>\n",
       "    </tr>\n",
       "    <tr>\n",
       "      <th>8</th>\n",
       "      <td>degree_percentage</td>\n",
       "      <td>0.036462</td>\n",
       "    </tr>\n",
       "    <tr>\n",
       "      <th>9</th>\n",
       "      <td>emp_test_percentage</td>\n",
       "      <td>0.032820</td>\n",
       "    </tr>\n",
       "    <tr>\n",
       "      <th>10</th>\n",
       "      <td>undergrad_degree</td>\n",
       "      <td>0.001705</td>\n",
       "    </tr>\n",
       "    <tr>\n",
       "      <th>11</th>\n",
       "      <td>hsc_subject</td>\n",
       "      <td>0.000000</td>\n",
       "    </tr>\n",
       "  </tbody>\n",
       "</table>\n",
       "</div>"
      ],
      "text/plain": [
       "                  input        IG\n",
       "0        ssc_percentage  0.305936\n",
       "1                gender  0.202385\n",
       "2             hsc_board  0.111918\n",
       "3       work_experience  0.083812\n",
       "4           mba_percent  0.065999\n",
       "5        specialisation  0.058826\n",
       "6        hsc_percentage  0.057226\n",
       "7             ssc_board  0.042911\n",
       "8     degree_percentage  0.036462\n",
       "9   emp_test_percentage  0.032820\n",
       "10     undergrad_degree  0.001705\n",
       "11          hsc_subject  0.000000"
      ]
     },
     "execution_count": 76,
     "metadata": {},
     "output_type": "execute_result"
    }
   ],
   "source": [
    "#check imp features\n",
    "#check information gain :\n",
    "dict={\"input\":X.columns,\"IG\":xgc.feature_importances_}\n",
    "#convert dict to dataframe\n",
    "df3=pd.DataFrame(dict)\n",
    "#sorting in desending order\n",
    "#change record no as per sorting\n",
    "df3.sort_values('IG',ascending=False,ignore_index=True)"
   ]
  },
  {
   "cell_type": "code",
   "execution_count": 77,
   "id": "3bb93dec",
   "metadata": {},
   "outputs": [],
   "source": [
    "#give data to support vector machine\n",
    "#1.Linear kernal function of support vector machine \n",
    "#means suppose data are linear separatable with the help of straight line\n",
    "#call inbuild claass for Linear SVM :linear SVC\n",
    "#SVC means support vector classifier\n",
    "#data give to linear"
   ]
  },
  {
   "cell_type": "code",
   "execution_count": 78,
   "id": "58fc5d40",
   "metadata": {},
   "outputs": [],
   "source": [
    "from sklearn.svm import LinearSVC"
   ]
  },
  {
   "cell_type": "code",
   "execution_count": 79,
   "id": "488a77ff",
   "metadata": {},
   "outputs": [],
   "source": [
    "#create obhect of LinearSVC class\n",
    "#here no add error\n",
    "svc=LinearSVC(random_state=1)"
   ]
  },
  {
   "cell_type": "code",
   "execution_count": 80,
   "id": "867039ba",
   "metadata": {},
   "outputs": [
    {
     "name": "stdout",
     "output_type": "stream",
     "text": [
      "              precision    recall  f1-score   support\n",
      "\n",
      "           0       0.89      0.87      0.88        45\n",
      "           1       0.87      0.89      0.88        45\n",
      "\n",
      "    accuracy                           0.88        90\n",
      "   macro avg       0.88      0.88      0.88        90\n",
      "weighted avg       0.88      0.88      0.88        90\n",
      "\n",
      "[[39  6]\n",
      " [ 5 40]]\n"
     ]
    }
   ],
   "source": [
    "#call fn\n",
    "svc=create_model(svc)\n",
    "#here recall is 89%"
   ]
  },
  {
   "cell_type": "code",
   "execution_count": 81,
   "id": "7e0c65d6",
   "metadata": {},
   "outputs": [],
   "source": [
    "#add error while runtime\n",
    "##C means error parameter ,the value of C can be <=1\n",
    "svc1=LinearSVC(random_state=1,C=0.04)\n",
    "#hence recall  change after ading error so my data set is linear"
   ]
  },
  {
   "cell_type": "code",
   "execution_count": 82,
   "id": "47b77f48",
   "metadata": {},
   "outputs": [
    {
     "name": "stdout",
     "output_type": "stream",
     "text": [
      "              precision    recall  f1-score   support\n",
      "\n",
      "           0       0.89      0.91      0.90        45\n",
      "           1       0.91      0.89      0.90        45\n",
      "\n",
      "    accuracy                           0.90        90\n",
      "   macro avg       0.90      0.90      0.90        90\n",
      "weighted avg       0.90      0.90      0.90        90\n",
      "\n",
      "[[41  4]\n",
      " [ 5 40]]\n"
     ]
    }
   ],
   "source": [
    "#call fn\n",
    "svc1=create_model(svc1)\n",
    "#here recall is 89%"
   ]
  },
  {
   "cell_type": "raw",
   "id": "7e2d0600",
   "metadata": {},
   "source": [
    "#conclusion\n",
    "LogisticRegression recall is 85%\n",
    "\n",
    "DecsionTreeClassifier(Gini) recall is 87%\n",
    "DecsionTreeClassifier(Gini),max depth recall is 87%\n",
    "DecsionTreeClassifier(Gini),min samples leaf recall is 78%\n",
    "\n",
    "DecsionTreeClassifier(Entropy) recall is 82%\n",
    "DecsionTreeClassifier(Entropy),max depth recall is 80%\n",
    "DecsionTreeClassifier(Entropy),min samples leaf recall is 78%\n",
    "\n",
    "RandomForestClassifier recall is 91%\n",
    "RandomForestClassifier(max depth) recall is 93%\n",
    "RandomForestClassifier(min samples leaf )recall is 78%\n",
    "\n",
    "AdaBoostClassifier recall is 85%\n",
    "GradientBoostingClassifier recall is 89%\n",
    "XGBClassifier recall is 89%\n",
    "\n",
    "LinearSVC recall is 89%\n",
    "\n",
    "overall all technique LinearSVC recall 89% because diff between \n",
    "0 and 1 cat is 2% so among all LinearSVC is best method for this dataset"
   ]
  }
 ],
 "metadata": {
  "kernelspec": {
   "display_name": "Python 3 (ipykernel)",
   "language": "python",
   "name": "python3"
  },
  "language_info": {
   "codemirror_mode": {
    "name": "ipython",
    "version": 3
   },
   "file_extension": ".py",
   "mimetype": "text/x-python",
   "name": "python",
   "nbconvert_exporter": "python",
   "pygments_lexer": "ipython3",
   "version": "3.9.7"
  }
 },
 "nbformat": 4,
 "nbformat_minor": 5
}
